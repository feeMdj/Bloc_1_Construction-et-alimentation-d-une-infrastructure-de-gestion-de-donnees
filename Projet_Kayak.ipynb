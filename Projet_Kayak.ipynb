{
 "cells": [
  {
   "cell_type": "code",
   "execution_count": 1,
   "metadata": {},
   "outputs": [],
   "source": [
    "import requests\n",
    "import pandas as pd\n",
    "import json\n",
    "import os\n",
    "import logging\n",
    "import scrapy\n",
    "from scrapy.crawler import CrawlerProcess\n",
    "import pandas as pd\n",
    "import json\n",
    "from pandas import json_normalize\n",
    "import plotly.express as px\n",
    "import plotly.io as pio\n",
    "from functools import reduce"
   ]
  },
  {
   "cell_type": "code",
   "execution_count": 2,
   "metadata": {},
   "outputs": [],
   "source": [
    "villes=[\"Mont Saint Michel\",\"St Malo\",\"Bayeux\",\"Le Havre\",\"Rouen\",\"Paris\",\"Amiens\",\"Lille\",\"Strasbourg\",\"Chateau du Haut Koenigsbourg\",\"Colmar\",\"Eguisheim\",\"Besancon\",\"Dijon\",\"Annecy\",\"Grenoble\",\"Lyon\",\"Gorges du Verdon\",\"Bormes les Mimosas\",\"Cassis\",\"Marseille\", \"Aix en Provence\",\"Avignon\",\"Uzes\",\"Nimes\",\"Aigues Mortes\",\"Saintes Maries de la mer\",\"Collioure\",\"Carcassonne\",\"Ariege\",\"Toulouse\",\"Montauban\",\"Biarritz\",\"Bayonne\",\"La Rochelle\"]"
   ]
  },
  {
   "cell_type": "code",
   "execution_count": 3,
   "metadata": {},
   "outputs": [],
   "source": [
    "# Treatment in order to standardize the names\n",
    "nvelle_liste_ville=[]\n",
    "for ville in villes:\n",
    "    nvelle_ville=ville.lower().replace(\" \",\"+\")\n",
    "    nvelle_liste_ville.append(nvelle_ville)"
   ]
  },
  {
   "cell_type": "code",
   "execution_count": 45,
   "metadata": {},
   "outputs": [],
   "source": [
    "# Define iteration to get the the wheather for the 35 cities from GPS coordonates and add all the information in a list named meteo\n",
    "meteo= []\n",
    "for city in villes:\n",
    "    r = requests.get(f'https://nominatim.openstreetmap.org/search?q={city}&format=json') \n",
    "    lat = r.json()[0]['lat']\n",
    "    lon = r.json()[0]['lon']\n",
    "    for i in range(40):\n",
    "        r2 = requests.get(f'https://api.openweathermap.org/data/2.5/forecast?lat={lat}&lon={lon}&appid=b8ddc185d198199709ed2cb5171bc980&lang=fr&units=metric')\n",
    "        temp = r2.json()['list'][i]['main']['temp']\n",
    "        date=r2.json()['list'][i]['dt_txt']\n",
    "        meteo.append([city,date,temp, lon,lat])"
   ]
  },
  {
   "cell_type": "code",
   "execution_count": 46,
   "metadata": {},
   "outputs": [],
   "source": [
    "# We save our resuest results in a json file named meteo\n",
    "with open('meteo.json', 'w') as f:\n",
    "    json.dump(meteo, f)"
   ]
  },
  {
   "cell_type": "code",
   "execution_count": 59,
   "metadata": {},
   "outputs": [],
   "source": [
    "df=pd.DataFrame(meteo, columns=['city','date','temperature', 'lon','lat'])"
   ]
  },
  {
   "cell_type": "code",
   "execution_count": 60,
   "metadata": {},
   "outputs": [
    {
     "data": {
      "text/html": [
       "<div>\n",
       "<style scoped>\n",
       "    .dataframe tbody tr th:only-of-type {\n",
       "        vertical-align: middle;\n",
       "    }\n",
       "\n",
       "    .dataframe tbody tr th {\n",
       "        vertical-align: top;\n",
       "    }\n",
       "\n",
       "    .dataframe thead th {\n",
       "        text-align: right;\n",
       "    }\n",
       "</style>\n",
       "<table border=\"1\" class=\"dataframe\">\n",
       "  <thead>\n",
       "    <tr style=\"text-align: right;\">\n",
       "      <th></th>\n",
       "      <th>city</th>\n",
       "      <th>date</th>\n",
       "      <th>temperature</th>\n",
       "      <th>lon</th>\n",
       "      <th>lat</th>\n",
       "      <th>day</th>\n",
       "      <th>Hour</th>\n",
       "    </tr>\n",
       "  </thead>\n",
       "  <tbody>\n",
       "    <tr>\n",
       "      <th>0</th>\n",
       "      <td>Mont Saint Michel</td>\n",
       "      <td>2023-02-18 21:00:00</td>\n",
       "      <td>11.39</td>\n",
       "      <td>-1.511459954959514</td>\n",
       "      <td>48.6359541</td>\n",
       "      <td>day1</td>\n",
       "      <td>21</td>\n",
       "    </tr>\n",
       "    <tr>\n",
       "      <th>1</th>\n",
       "      <td>Mont Saint Michel</td>\n",
       "      <td>2023-02-19 00:00:00</td>\n",
       "      <td>11.13</td>\n",
       "      <td>-1.511459954959514</td>\n",
       "      <td>48.6359541</td>\n",
       "      <td>day2</td>\n",
       "      <td>0</td>\n",
       "    </tr>\n",
       "    <tr>\n",
       "      <th>2</th>\n",
       "      <td>Mont Saint Michel</td>\n",
       "      <td>2023-02-19 03:00:00</td>\n",
       "      <td>9.42</td>\n",
       "      <td>-1.511459954959514</td>\n",
       "      <td>48.6359541</td>\n",
       "      <td>day2</td>\n",
       "      <td>3</td>\n",
       "    </tr>\n",
       "    <tr>\n",
       "      <th>3</th>\n",
       "      <td>Mont Saint Michel</td>\n",
       "      <td>2023-02-19 06:00:00</td>\n",
       "      <td>8.20</td>\n",
       "      <td>-1.511459954959514</td>\n",
       "      <td>48.6359541</td>\n",
       "      <td>day2</td>\n",
       "      <td>6</td>\n",
       "    </tr>\n",
       "    <tr>\n",
       "      <th>4</th>\n",
       "      <td>Mont Saint Michel</td>\n",
       "      <td>2023-02-19 09:00:00</td>\n",
       "      <td>9.56</td>\n",
       "      <td>-1.511459954959514</td>\n",
       "      <td>48.6359541</td>\n",
       "      <td>day2</td>\n",
       "      <td>9</td>\n",
       "    </tr>\n",
       "  </tbody>\n",
       "</table>\n",
       "</div>"
      ],
      "text/plain": [
       "                city                date  temperature                 lon  \\\n",
       "0  Mont Saint Michel 2023-02-18 21:00:00        11.39  -1.511459954959514   \n",
       "1  Mont Saint Michel 2023-02-19 00:00:00        11.13  -1.511459954959514   \n",
       "2  Mont Saint Michel 2023-02-19 03:00:00         9.42  -1.511459954959514   \n",
       "3  Mont Saint Michel 2023-02-19 06:00:00         8.20  -1.511459954959514   \n",
       "4  Mont Saint Michel 2023-02-19 09:00:00         9.56  -1.511459954959514   \n",
       "\n",
       "          lat   day  Hour  \n",
       "0  48.6359541  day1    21  \n",
       "1  48.6359541  day2     0  \n",
       "2  48.6359541  day2     3  \n",
       "3  48.6359541  day2     6  \n",
       "4  48.6359541  day2     9  "
      ]
     },
     "execution_count": 60,
     "metadata": {},
     "output_type": "execute_result"
    }
   ],
   "source": [
    "# We use the library datetime on our date column in order to split it on Day & hour\n",
    "df['date']=pd.to_datetime(df['date'])\n",
    "df[\"day\"]=df.date.dt.day\n",
    "df[\"Hour\"]=df.date.dt.hour\n",
    "df.day=df.day.apply(lambda x:'day1' if x==18\n",
    "                    else 'day2' if x==19 \n",
    "                    else 'day3' if x==20\n",
    "                    else 'day4' if x==21\n",
    "                    else 'day5' if x==22\n",
    "                    else 'day6')\n",
    "df.head()"
   ]
  },
  {
   "cell_type": "code",
   "execution_count": 57,
   "metadata": {},
   "outputs": [],
   "source": [
    "# we reate a function to format the city names, keeping only the first part before the comma of the whole name\n",
    "def get_name(name):\n",
    "    return name.split(',')[0]"
   ]
  },
  {
   "cell_type": "code",
   "execution_count": null,
   "metadata": {},
   "outputs": [],
   "source": [
    "\"\"\"# we apply this function to our first name column\n",
    "df['city']=df.loc[:,'city'].apply(get_name)\n",
    "df.head()\"\"\""
   ]
  },
  {
   "cell_type": "code",
   "execution_count": 69,
   "metadata": {},
   "outputs": [],
   "source": [
    "# We apply some text modifications in order to standradize the city names\n",
    "df.city=df.city.apply(lambda x: x.lower().replace(\"-\",\" \").replace(\"î\", \"i\")).str.normalize('NFKD').str.encode('ascii', errors='ignore').str.decode('utf-8')\n",
    "df.city=df.city.apply(lambda x: x.replace(\"knigsbourg\",\"koenigsbourg\").replace(\"saint malo\", \"st malo\"))"
   ]
  },
  {
   "cell_type": "code",
   "execution_count": 61,
   "metadata": {},
   "outputs": [],
   "source": [
    "# We open the csv file created from our Booking.com scrapping\n",
    "json_file_path = \"ScrapBooking.json\"\n",
    "\n",
    "with open(json_file_path, 'r') as j:\n",
    "     infos_booking = json.loads(j.read())"
   ]
  },
  {
   "cell_type": "code",
   "execution_count": 70,
   "metadata": {},
   "outputs": [],
   "source": [
    "# we create from this a csv file a pandas dataframe named booking\n",
    "booking=pd.DataFrame(infos_booking)"
   ]
  },
  {
   "cell_type": "code",
   "execution_count": 72,
   "metadata": {},
   "outputs": [],
   "source": [
    "# We put all the letters in lowercase and replace all the - by a space\n",
    "booking.city=booking.city.apply(lambda x: x.lower().replace(\"-\",\" \"))"
   ]
  },
  {
   "cell_type": "code",
   "execution_count": 73,
   "metadata": {},
   "outputs": [
    {
     "data": {
      "text/html": [
       "<div>\n",
       "<style scoped>\n",
       "    .dataframe tbody tr th:only-of-type {\n",
       "        vertical-align: middle;\n",
       "    }\n",
       "\n",
       "    .dataframe tbody tr th {\n",
       "        vertical-align: top;\n",
       "    }\n",
       "\n",
       "    .dataframe thead th {\n",
       "        text-align: right;\n",
       "    }\n",
       "</style>\n",
       "<table border=\"1\" class=\"dataframe\">\n",
       "  <thead>\n",
       "    <tr style=\"text-align: right;\">\n",
       "      <th></th>\n",
       "      <th>city</th>\n",
       "      <th>date</th>\n",
       "      <th>temperature</th>\n",
       "      <th>lon</th>\n",
       "      <th>lat</th>\n",
       "      <th>day</th>\n",
       "      <th>Hour</th>\n",
       "      <th>name</th>\n",
       "      <th>url</th>\n",
       "      <th>score</th>\n",
       "      <th>description</th>\n",
       "      <th>gps</th>\n",
       "    </tr>\n",
       "  </thead>\n",
       "  <tbody>\n",
       "    <tr>\n",
       "      <th>0</th>\n",
       "      <td>mont saint michel</td>\n",
       "      <td>2023-02-18 21:00:00</td>\n",
       "      <td>11.39</td>\n",
       "      <td>-1.511459954959514</td>\n",
       "      <td>48.6359541</td>\n",
       "      <td>day1</td>\n",
       "      <td>21</td>\n",
       "      <td>Au Mont Pour Deux</td>\n",
       "      <td>https://www.booking.com/hotel/fr/au-mont-pour-...</td>\n",
       "      <td>8.3</td>\n",
       "      <td>Managed by a private host</td>\n",
       "      <td>48.61349776,-1.48584455</td>\n",
       "    </tr>\n",
       "    <tr>\n",
       "      <th>1</th>\n",
       "      <td>mont saint michel</td>\n",
       "      <td>2023-02-18 21:00:00</td>\n",
       "      <td>11.39</td>\n",
       "      <td>-1.511459954959514</td>\n",
       "      <td>48.6359541</td>\n",
       "      <td>day1</td>\n",
       "      <td>21</td>\n",
       "      <td>Gites Bellevue</td>\n",
       "      <td>https://www.booking.com/hotel/fr/gites-bellevu...</td>\n",
       "      <td>9.3</td>\n",
       "      <td>Managed by a private host</td>\n",
       "      <td>48.60788007,-1.51722372</td>\n",
       "    </tr>\n",
       "    <tr>\n",
       "      <th>2</th>\n",
       "      <td>mont saint michel</td>\n",
       "      <td>2023-02-18 21:00:00</td>\n",
       "      <td>11.39</td>\n",
       "      <td>-1.511459954959514</td>\n",
       "      <td>48.6359541</td>\n",
       "      <td>day1</td>\n",
       "      <td>21</td>\n",
       "      <td>Chambres d'Hôtes Les Vieilles Digues</td>\n",
       "      <td>https://www.booking.com/hotel/fr/chambres-d-ha...</td>\n",
       "      <td>9.3</td>\n",
       "      <td>Set in a renovated Breton-style house, this fa...</td>\n",
       "      <td>48.60418750,-1.51159912</td>\n",
       "    </tr>\n",
       "    <tr>\n",
       "      <th>3</th>\n",
       "      <td>mont saint michel</td>\n",
       "      <td>2023-02-18 21:00:00</td>\n",
       "      <td>11.39</td>\n",
       "      <td>-1.511459954959514</td>\n",
       "      <td>48.6359541</td>\n",
       "      <td>day1</td>\n",
       "      <td>21</td>\n",
       "      <td>Maison au pied du Mont Saint Michel</td>\n",
       "      <td>https://www.booking.com/hotel/fr/maison-au-pie...</td>\n",
       "      <td>9.0</td>\n",
       "      <td>Boasting garden views, Maison au pied du Mont ...</td>\n",
       "      <td>48.61267358,-1.48553065</td>\n",
       "    </tr>\n",
       "    <tr>\n",
       "      <th>4</th>\n",
       "      <td>mont saint michel</td>\n",
       "      <td>2023-02-18 21:00:00</td>\n",
       "      <td>11.39</td>\n",
       "      <td>-1.511459954959514</td>\n",
       "      <td>48.6359541</td>\n",
       "      <td>day1</td>\n",
       "      <td>21</td>\n",
       "      <td>Au Mont Chez Nous Jaccuzi et Sauna</td>\n",
       "      <td>https://www.booking.com/hotel/fr/26-route-de-l...</td>\n",
       "      <td>9.2</td>\n",
       "      <td>Managed by a private host</td>\n",
       "      <td>48.61345530,-1.48587230</td>\n",
       "    </tr>\n",
       "  </tbody>\n",
       "</table>\n",
       "</div>"
      ],
      "text/plain": [
       "                city                date  temperature                 lon  \\\n",
       "0  mont saint michel 2023-02-18 21:00:00        11.39  -1.511459954959514   \n",
       "1  mont saint michel 2023-02-18 21:00:00        11.39  -1.511459954959514   \n",
       "2  mont saint michel 2023-02-18 21:00:00        11.39  -1.511459954959514   \n",
       "3  mont saint michel 2023-02-18 21:00:00        11.39  -1.511459954959514   \n",
       "4  mont saint michel 2023-02-18 21:00:00        11.39  -1.511459954959514   \n",
       "\n",
       "          lat   day  Hour                                  name  \\\n",
       "0  48.6359541  day1    21                     Au Mont Pour Deux   \n",
       "1  48.6359541  day1    21                        Gites Bellevue   \n",
       "2  48.6359541  day1    21  Chambres d'Hôtes Les Vieilles Digues   \n",
       "3  48.6359541  day1    21   Maison au pied du Mont Saint Michel   \n",
       "4  48.6359541  day1    21    Au Mont Chez Nous Jaccuzi et Sauna   \n",
       "\n",
       "                                                 url score  \\\n",
       "0  https://www.booking.com/hotel/fr/au-mont-pour-...   8.3   \n",
       "1  https://www.booking.com/hotel/fr/gites-bellevu...   9.3   \n",
       "2  https://www.booking.com/hotel/fr/chambres-d-ha...   9.3   \n",
       "3  https://www.booking.com/hotel/fr/maison-au-pie...   9.0   \n",
       "4  https://www.booking.com/hotel/fr/26-route-de-l...   9.2   \n",
       "\n",
       "                                         description                      gps  \n",
       "0                          Managed by a private host  48.61349776,-1.48584455  \n",
       "1                          Managed by a private host  48.60788007,-1.51722372  \n",
       "2  Set in a renovated Breton-style house, this fa...  48.60418750,-1.51159912  \n",
       "3  Boasting garden views, Maison au pied du Mont ...  48.61267358,-1.48553065  \n",
       "4                          Managed by a private host  48.61345530,-1.48587230  "
      ]
     },
     "execution_count": 73,
     "metadata": {},
     "output_type": "execute_result"
    }
   ],
   "source": [
    "#We merge both dataframes\n",
    "data=pd.merge(df, booking, how=\"outer\", on=\"city\")\n",
    "data.head()"
   ]
  },
  {
   "cell_type": "code",
   "execution_count": 74,
   "metadata": {},
   "outputs": [
    {
     "data": {
      "text/html": [
       "<div>\n",
       "<style scoped>\n",
       "    .dataframe tbody tr th:only-of-type {\n",
       "        vertical-align: middle;\n",
       "    }\n",
       "\n",
       "    .dataframe tbody tr th {\n",
       "        vertical-align: top;\n",
       "    }\n",
       "\n",
       "    .dataframe thead th {\n",
       "        text-align: right;\n",
       "    }\n",
       "</style>\n",
       "<table border=\"1\" class=\"dataframe\">\n",
       "  <thead>\n",
       "    <tr style=\"text-align: right;\">\n",
       "      <th></th>\n",
       "      <th>city</th>\n",
       "      <th>date</th>\n",
       "      <th>temperature</th>\n",
       "      <th>lon</th>\n",
       "      <th>lat</th>\n",
       "      <th>day</th>\n",
       "      <th>Hour</th>\n",
       "      <th>name</th>\n",
       "      <th>url</th>\n",
       "      <th>score</th>\n",
       "      <th>description</th>\n",
       "      <th>gps</th>\n",
       "    </tr>\n",
       "  </thead>\n",
       "  <tbody>\n",
       "    <tr>\n",
       "      <th>12004</th>\n",
       "      <td>besancon</td>\n",
       "      <td>2023-02-18 21:00:00</td>\n",
       "      <td>9.13</td>\n",
       "      <td>6.0243622</td>\n",
       "      <td>47.2380222</td>\n",
       "      <td>day1</td>\n",
       "      <td>21</td>\n",
       "      <td>Spacieux 3 chambres refait à neuf</td>\n",
       "      <td>https://www.booking.com/hotel/fr/spacieux-3-ch...</td>\n",
       "      <td>None</td>\n",
       "      <td>Managed by a private host</td>\n",
       "      <td>47.24860190,6.03051780</td>\n",
       "    </tr>\n",
       "    <tr>\n",
       "      <th>12007</th>\n",
       "      <td>besancon</td>\n",
       "      <td>2023-02-18 21:00:00</td>\n",
       "      <td>9.13</td>\n",
       "      <td>6.0243622</td>\n",
       "      <td>47.2380222</td>\n",
       "      <td>day1</td>\n",
       "      <td>21</td>\n",
       "      <td>Le Bellevue - Parc, Gare et Vieille ville</td>\n",
       "      <td>https://www.booking.com/hotel/fr/le-bellevue-p...</td>\n",
       "      <td>None</td>\n",
       "      <td>Managed by a private host</td>\n",
       "      <td>47.24595380,6.02309120</td>\n",
       "    </tr>\n",
       "    <tr>\n",
       "      <th>12029</th>\n",
       "      <td>besancon</td>\n",
       "      <td>2023-02-19 00:00:00</td>\n",
       "      <td>8.79</td>\n",
       "      <td>6.0243622</td>\n",
       "      <td>47.2380222</td>\n",
       "      <td>day2</td>\n",
       "      <td>0</td>\n",
       "      <td>Spacieux 3 chambres refait à neuf</td>\n",
       "      <td>https://www.booking.com/hotel/fr/spacieux-3-ch...</td>\n",
       "      <td>None</td>\n",
       "      <td>Managed by a private host</td>\n",
       "      <td>47.24860190,6.03051780</td>\n",
       "    </tr>\n",
       "    <tr>\n",
       "      <th>12032</th>\n",
       "      <td>besancon</td>\n",
       "      <td>2023-02-19 00:00:00</td>\n",
       "      <td>8.79</td>\n",
       "      <td>6.0243622</td>\n",
       "      <td>47.2380222</td>\n",
       "      <td>day2</td>\n",
       "      <td>0</td>\n",
       "      <td>Le Bellevue - Parc, Gare et Vieille ville</td>\n",
       "      <td>https://www.booking.com/hotel/fr/le-bellevue-p...</td>\n",
       "      <td>None</td>\n",
       "      <td>Managed by a private host</td>\n",
       "      <td>47.24595380,6.02309120</td>\n",
       "    </tr>\n",
       "    <tr>\n",
       "      <th>12054</th>\n",
       "      <td>besancon</td>\n",
       "      <td>2023-02-19 03:00:00</td>\n",
       "      <td>7.88</td>\n",
       "      <td>6.0243622</td>\n",
       "      <td>47.2380222</td>\n",
       "      <td>day2</td>\n",
       "      <td>3</td>\n",
       "      <td>Spacieux 3 chambres refait à neuf</td>\n",
       "      <td>https://www.booking.com/hotel/fr/spacieux-3-ch...</td>\n",
       "      <td>None</td>\n",
       "      <td>Managed by a private host</td>\n",
       "      <td>47.24860190,6.03051780</td>\n",
       "    </tr>\n",
       "    <tr>\n",
       "      <th>...</th>\n",
       "      <td>...</td>\n",
       "      <td>...</td>\n",
       "      <td>...</td>\n",
       "      <td>...</td>\n",
       "      <td>...</td>\n",
       "      <td>...</td>\n",
       "      <td>...</td>\n",
       "      <td>...</td>\n",
       "      <td>...</td>\n",
       "      <td>...</td>\n",
       "      <td>...</td>\n",
       "      <td>...</td>\n",
       "    </tr>\n",
       "    <tr>\n",
       "      <th>33890</th>\n",
       "      <td>bayonne</td>\n",
       "      <td>2023-02-23 06:00:00</td>\n",
       "      <td>7.51</td>\n",
       "      <td>-1.4736657</td>\n",
       "      <td>43.4945144</td>\n",
       "      <td>day6</td>\n",
       "      <td>6</td>\n",
       "      <td>Le Petit Nid Douillet de Jéjé</td>\n",
       "      <td>https://www.booking.com/hotel/fr/le-petit-nid-...</td>\n",
       "      <td>None</td>\n",
       "      <td>Managed by a private host</td>\n",
       "      <td>43.49405931,-1.46824640</td>\n",
       "    </tr>\n",
       "    <tr>\n",
       "      <th>33915</th>\n",
       "      <td>bayonne</td>\n",
       "      <td>2023-02-23 09:00:00</td>\n",
       "      <td>8.04</td>\n",
       "      <td>-1.4736657</td>\n",
       "      <td>43.4945144</td>\n",
       "      <td>day6</td>\n",
       "      <td>9</td>\n",
       "      <td>Le Petit Nid Douillet de Jéjé</td>\n",
       "      <td>https://www.booking.com/hotel/fr/le-petit-nid-...</td>\n",
       "      <td>None</td>\n",
       "      <td>Managed by a private host</td>\n",
       "      <td>43.49405931,-1.46824640</td>\n",
       "    </tr>\n",
       "    <tr>\n",
       "      <th>33940</th>\n",
       "      <td>bayonne</td>\n",
       "      <td>2023-02-23 12:00:00</td>\n",
       "      <td>8.72</td>\n",
       "      <td>-1.4736657</td>\n",
       "      <td>43.4945144</td>\n",
       "      <td>day6</td>\n",
       "      <td>12</td>\n",
       "      <td>Le Petit Nid Douillet de Jéjé</td>\n",
       "      <td>https://www.booking.com/hotel/fr/le-petit-nid-...</td>\n",
       "      <td>None</td>\n",
       "      <td>Managed by a private host</td>\n",
       "      <td>43.49405931,-1.46824640</td>\n",
       "    </tr>\n",
       "    <tr>\n",
       "      <th>33965</th>\n",
       "      <td>bayonne</td>\n",
       "      <td>2023-02-23 15:00:00</td>\n",
       "      <td>8.50</td>\n",
       "      <td>-1.4736657</td>\n",
       "      <td>43.4945144</td>\n",
       "      <td>day6</td>\n",
       "      <td>15</td>\n",
       "      <td>Le Petit Nid Douillet de Jéjé</td>\n",
       "      <td>https://www.booking.com/hotel/fr/le-petit-nid-...</td>\n",
       "      <td>None</td>\n",
       "      <td>Managed by a private host</td>\n",
       "      <td>43.49405931,-1.46824640</td>\n",
       "    </tr>\n",
       "    <tr>\n",
       "      <th>33990</th>\n",
       "      <td>bayonne</td>\n",
       "      <td>2023-02-23 18:00:00</td>\n",
       "      <td>7.26</td>\n",
       "      <td>-1.4736657</td>\n",
       "      <td>43.4945144</td>\n",
       "      <td>day6</td>\n",
       "      <td>18</td>\n",
       "      <td>Le Petit Nid Douillet de Jéjé</td>\n",
       "      <td>https://www.booking.com/hotel/fr/le-petit-nid-...</td>\n",
       "      <td>None</td>\n",
       "      <td>Managed by a private host</td>\n",
       "      <td>43.49405931,-1.46824640</td>\n",
       "    </tr>\n",
       "  </tbody>\n",
       "</table>\n",
       "<p>600 rows × 12 columns</p>\n",
       "</div>"
      ],
      "text/plain": [
       "           city                date  temperature         lon         lat  \\\n",
       "12004  besancon 2023-02-18 21:00:00         9.13   6.0243622  47.2380222   \n",
       "12007  besancon 2023-02-18 21:00:00         9.13   6.0243622  47.2380222   \n",
       "12029  besancon 2023-02-19 00:00:00         8.79   6.0243622  47.2380222   \n",
       "12032  besancon 2023-02-19 00:00:00         8.79   6.0243622  47.2380222   \n",
       "12054  besancon 2023-02-19 03:00:00         7.88   6.0243622  47.2380222   \n",
       "...         ...                 ...          ...         ...         ...   \n",
       "33890   bayonne 2023-02-23 06:00:00         7.51  -1.4736657  43.4945144   \n",
       "33915   bayonne 2023-02-23 09:00:00         8.04  -1.4736657  43.4945144   \n",
       "33940   bayonne 2023-02-23 12:00:00         8.72  -1.4736657  43.4945144   \n",
       "33965   bayonne 2023-02-23 15:00:00         8.50  -1.4736657  43.4945144   \n",
       "33990   bayonne 2023-02-23 18:00:00         7.26  -1.4736657  43.4945144   \n",
       "\n",
       "        day  Hour                                       name  \\\n",
       "12004  day1    21          Spacieux 3 chambres refait à neuf   \n",
       "12007  day1    21  Le Bellevue - Parc, Gare et Vieille ville   \n",
       "12029  day2     0          Spacieux 3 chambres refait à neuf   \n",
       "12032  day2     0  Le Bellevue - Parc, Gare et Vieille ville   \n",
       "12054  day2     3          Spacieux 3 chambres refait à neuf   \n",
       "...     ...   ...                                        ...   \n",
       "33890  day6     6              Le Petit Nid Douillet de Jéjé   \n",
       "33915  day6     9              Le Petit Nid Douillet de Jéjé   \n",
       "33940  day6    12              Le Petit Nid Douillet de Jéjé   \n",
       "33965  day6    15              Le Petit Nid Douillet de Jéjé   \n",
       "33990  day6    18              Le Petit Nid Douillet de Jéjé   \n",
       "\n",
       "                                                     url score  \\\n",
       "12004  https://www.booking.com/hotel/fr/spacieux-3-ch...  None   \n",
       "12007  https://www.booking.com/hotel/fr/le-bellevue-p...  None   \n",
       "12029  https://www.booking.com/hotel/fr/spacieux-3-ch...  None   \n",
       "12032  https://www.booking.com/hotel/fr/le-bellevue-p...  None   \n",
       "12054  https://www.booking.com/hotel/fr/spacieux-3-ch...  None   \n",
       "...                                                  ...   ...   \n",
       "33890  https://www.booking.com/hotel/fr/le-petit-nid-...  None   \n",
       "33915  https://www.booking.com/hotel/fr/le-petit-nid-...  None   \n",
       "33940  https://www.booking.com/hotel/fr/le-petit-nid-...  None   \n",
       "33965  https://www.booking.com/hotel/fr/le-petit-nid-...  None   \n",
       "33990  https://www.booking.com/hotel/fr/le-petit-nid-...  None   \n",
       "\n",
       "                     description                      gps  \n",
       "12004  Managed by a private host   47.24860190,6.03051780  \n",
       "12007  Managed by a private host   47.24595380,6.02309120  \n",
       "12029  Managed by a private host   47.24860190,6.03051780  \n",
       "12032  Managed by a private host   47.24595380,6.02309120  \n",
       "12054  Managed by a private host   47.24860190,6.03051780  \n",
       "...                          ...                      ...  \n",
       "33890  Managed by a private host  43.49405931,-1.46824640  \n",
       "33915  Managed by a private host  43.49405931,-1.46824640  \n",
       "33940  Managed by a private host  43.49405931,-1.46824640  \n",
       "33965  Managed by a private host  43.49405931,-1.46824640  \n",
       "33990  Managed by a private host  43.49405931,-1.46824640  \n",
       "\n",
       "[600 rows x 12 columns]"
      ]
     },
     "execution_count": 74,
     "metadata": {},
     "output_type": "execute_result"
    }
   ],
   "source": [
    "#Let's have a look to null values\n",
    "data[data.isna().any(axis=1)]"
   ]
  },
  {
   "cell_type": "code",
   "execution_count": 76,
   "metadata": {},
   "outputs": [],
   "source": [
    "# Removing lines with nan values from score column\n",
    "data = data[data.score.isna() == False]"
   ]
  },
  {
   "cell_type": "code",
   "execution_count": 78,
   "metadata": {},
   "outputs": [],
   "source": [
    "# We create a csv file from this dataframe\n",
    "kayakdata = data.to_csv()"
   ]
  },
  {
   "attachments": {},
   "cell_type": "markdown",
   "metadata": {},
   "source": [
    "# Create a Data Lake using AWS S3"
   ]
  },
  {
   "cell_type": "code",
   "execution_count": 79,
   "metadata": {},
   "outputs": [],
   "source": [
    "#connexion and Bucket S3 creation on AWS\n",
    "import boto3\n",
    "\n",
    "session = boto3.Session(profile_name=\"ferielprojet\")\n",
    "s3 = session.resource(\"s3\")\n"
   ]
  },
  {
   "cell_type": "code",
   "execution_count": 87,
   "metadata": {},
   "outputs": [],
   "source": [
    "response = s3.create_bucket(\n",
    "    Bucket='projetkayak-feriel',\n",
    "    CreateBucketConfiguration={\n",
    "        'LocationConstraint': 'eu-west-3',\n",
    "    },\n",
    ")"
   ]
  },
  {
   "cell_type": "code",
   "execution_count": 80,
   "metadata": {},
   "outputs": [],
   "source": [
    "bucket = s3.Bucket(\"projetkayak-feriel\") "
   ]
  },
  {
   "cell_type": "code",
   "execution_count": 81,
   "metadata": {},
   "outputs": [],
   "source": [
    "# we add our csv file to this new empty bucket\n",
    "put_object = bucket.put_object(Key=\"kayakdata.csv\", Body=kayakdata)"
   ]
  },
  {
   "cell_type": "code",
   "execution_count": 82,
   "metadata": {},
   "outputs": [],
   "source": [
    "# we Download from s3 bucket \n",
    "bucket.download_file('kayakdata.csv', 'kayak.csv')"
   ]
  },
  {
   "attachments": {},
   "cell_type": "markdown",
   "metadata": {},
   "source": [
    "# ETL PROCESS"
   ]
  },
  {
   "attachments": {},
   "cell_type": "markdown",
   "metadata": {},
   "source": [
    "## Cleaning"
   ]
  },
  {
   "cell_type": "code",
   "execution_count": 232,
   "metadata": {},
   "outputs": [
    {
     "data": {
      "text/html": [
       "<div>\n",
       "<style scoped>\n",
       "    .dataframe tbody tr th:only-of-type {\n",
       "        vertical-align: middle;\n",
       "    }\n",
       "\n",
       "    .dataframe tbody tr th {\n",
       "        vertical-align: top;\n",
       "    }\n",
       "\n",
       "    .dataframe thead th {\n",
       "        text-align: right;\n",
       "    }\n",
       "</style>\n",
       "<table border=\"1\" class=\"dataframe\">\n",
       "  <thead>\n",
       "    <tr style=\"text-align: right;\">\n",
       "      <th></th>\n",
       "      <th>Unnamed: 0</th>\n",
       "      <th>city</th>\n",
       "      <th>date</th>\n",
       "      <th>temperature</th>\n",
       "      <th>lon</th>\n",
       "      <th>lat</th>\n",
       "      <th>day</th>\n",
       "      <th>Hour</th>\n",
       "      <th>name</th>\n",
       "      <th>url</th>\n",
       "      <th>score</th>\n",
       "      <th>description</th>\n",
       "      <th>gps</th>\n",
       "    </tr>\n",
       "  </thead>\n",
       "  <tbody>\n",
       "    <tr>\n",
       "      <th>0</th>\n",
       "      <td>0</td>\n",
       "      <td>mont saint michel</td>\n",
       "      <td>2023-02-18 21:00:00</td>\n",
       "      <td>11.39</td>\n",
       "      <td>-1.51146</td>\n",
       "      <td>48.635954</td>\n",
       "      <td>day1</td>\n",
       "      <td>21</td>\n",
       "      <td>Au Mont Pour Deux</td>\n",
       "      <td>https://www.booking.com/hotel/fr/au-mont-pour-...</td>\n",
       "      <td>8.3</td>\n",
       "      <td>Managed by a private host</td>\n",
       "      <td>48.61349776,-1.48584455</td>\n",
       "    </tr>\n",
       "    <tr>\n",
       "      <th>1</th>\n",
       "      <td>1</td>\n",
       "      <td>mont saint michel</td>\n",
       "      <td>2023-02-18 21:00:00</td>\n",
       "      <td>11.39</td>\n",
       "      <td>-1.51146</td>\n",
       "      <td>48.635954</td>\n",
       "      <td>day1</td>\n",
       "      <td>21</td>\n",
       "      <td>Gites Bellevue</td>\n",
       "      <td>https://www.booking.com/hotel/fr/gites-bellevu...</td>\n",
       "      <td>9.3</td>\n",
       "      <td>Managed by a private host</td>\n",
       "      <td>48.60788007,-1.51722372</td>\n",
       "    </tr>\n",
       "    <tr>\n",
       "      <th>2</th>\n",
       "      <td>2</td>\n",
       "      <td>mont saint michel</td>\n",
       "      <td>2023-02-18 21:00:00</td>\n",
       "      <td>11.39</td>\n",
       "      <td>-1.51146</td>\n",
       "      <td>48.635954</td>\n",
       "      <td>day1</td>\n",
       "      <td>21</td>\n",
       "      <td>Chambres d'Hôtes Les Vieilles Digues</td>\n",
       "      <td>https://www.booking.com/hotel/fr/chambres-d-ha...</td>\n",
       "      <td>9.3</td>\n",
       "      <td>Set in a renovated Breton-style house, this fa...</td>\n",
       "      <td>48.60418750,-1.51159912</td>\n",
       "    </tr>\n",
       "    <tr>\n",
       "      <th>3</th>\n",
       "      <td>3</td>\n",
       "      <td>mont saint michel</td>\n",
       "      <td>2023-02-18 21:00:00</td>\n",
       "      <td>11.39</td>\n",
       "      <td>-1.51146</td>\n",
       "      <td>48.635954</td>\n",
       "      <td>day1</td>\n",
       "      <td>21</td>\n",
       "      <td>Maison au pied du Mont Saint Michel</td>\n",
       "      <td>https://www.booking.com/hotel/fr/maison-au-pie...</td>\n",
       "      <td>9.0</td>\n",
       "      <td>Boasting garden views, Maison au pied du Mont ...</td>\n",
       "      <td>48.61267358,-1.48553065</td>\n",
       "    </tr>\n",
       "    <tr>\n",
       "      <th>4</th>\n",
       "      <td>4</td>\n",
       "      <td>mont saint michel</td>\n",
       "      <td>2023-02-18 21:00:00</td>\n",
       "      <td>11.39</td>\n",
       "      <td>-1.51146</td>\n",
       "      <td>48.635954</td>\n",
       "      <td>day1</td>\n",
       "      <td>21</td>\n",
       "      <td>Au Mont Chez Nous Jaccuzi et Sauna</td>\n",
       "      <td>https://www.booking.com/hotel/fr/26-route-de-l...</td>\n",
       "      <td>9.2</td>\n",
       "      <td>Managed by a private host</td>\n",
       "      <td>48.61345530,-1.48587230</td>\n",
       "    </tr>\n",
       "  </tbody>\n",
       "</table>\n",
       "</div>"
      ],
      "text/plain": [
       "   Unnamed: 0               city                 date  temperature      lon  \\\n",
       "0           0  mont saint michel  2023-02-18 21:00:00        11.39 -1.51146   \n",
       "1           1  mont saint michel  2023-02-18 21:00:00        11.39 -1.51146   \n",
       "2           2  mont saint michel  2023-02-18 21:00:00        11.39 -1.51146   \n",
       "3           3  mont saint michel  2023-02-18 21:00:00        11.39 -1.51146   \n",
       "4           4  mont saint michel  2023-02-18 21:00:00        11.39 -1.51146   \n",
       "\n",
       "         lat   day  Hour                                  name  \\\n",
       "0  48.635954  day1    21                     Au Mont Pour Deux   \n",
       "1  48.635954  day1    21                        Gites Bellevue   \n",
       "2  48.635954  day1    21  Chambres d'Hôtes Les Vieilles Digues   \n",
       "3  48.635954  day1    21   Maison au pied du Mont Saint Michel   \n",
       "4  48.635954  day1    21    Au Mont Chez Nous Jaccuzi et Sauna   \n",
       "\n",
       "                                                 url  score  \\\n",
       "0  https://www.booking.com/hotel/fr/au-mont-pour-...    8.3   \n",
       "1  https://www.booking.com/hotel/fr/gites-bellevu...    9.3   \n",
       "2  https://www.booking.com/hotel/fr/chambres-d-ha...    9.3   \n",
       "3  https://www.booking.com/hotel/fr/maison-au-pie...    9.0   \n",
       "4  https://www.booking.com/hotel/fr/26-route-de-l...    9.2   \n",
       "\n",
       "                                         description                      gps  \n",
       "0                          Managed by a private host  48.61349776,-1.48584455  \n",
       "1                          Managed by a private host  48.60788007,-1.51722372  \n",
       "2  Set in a renovated Breton-style house, this fa...  48.60418750,-1.51159912  \n",
       "3  Boasting garden views, Maison au pied du Mont ...  48.61267358,-1.48553065  \n",
       "4                          Managed by a private host  48.61345530,-1.48587230  "
      ]
     },
     "execution_count": 232,
     "metadata": {},
     "output_type": "execute_result"
    }
   ],
   "source": [
    "# Convert out csv file previously downloded to a pandas Dataframe\n",
    "df=pd.read_csv('kayak.csv')\n",
    "df.head()"
   ]
  },
  {
   "cell_type": "code",
   "execution_count": 233,
   "metadata": {},
   "outputs": [],
   "source": [
    "# Droping useless columns\n",
    "df=df.drop([\"Unnamed: 0\"], axis=1)"
   ]
  },
  {
   "cell_type": "code",
   "execution_count": 234,
   "metadata": {},
   "outputs": [],
   "source": [
    "# Create a dataframe with only our hotels\n",
    "df_hotels= df[['city','name','score','description','url','lat','lon', 'gps']].drop_duplicates(keep='first')\n"
   ]
  },
  {
   "cell_type": "code",
   "execution_count": 236,
   "metadata": {},
   "outputs": [],
   "source": [
    "df_hotels['gps']=df_hotels.gps.apply(lambda x:x.split(','))\n",
    "df_hotels['hotel_lat']=df_hotels.gps.apply(lambda x:x[0])\n",
    "df_hotels['hotel_lon']= df_hotels.gps.apply(lambda x:x[1])"
   ]
  },
  {
   "cell_type": "code",
   "execution_count": 88,
   "metadata": {},
   "outputs": [],
   "source": [
    "# Create dataframe weather \n",
    "df_weather= df[['city','temperature','lat','lon', 'day','Hour']]"
   ]
  },
  {
   "attachments": {},
   "cell_type": "markdown",
   "metadata": {},
   "source": [
    "## Using cleaned data to create a Data Warehouse"
   ]
  },
  {
   "cell_type": "code",
   "execution_count": 77,
   "metadata": {},
   "outputs": [],
   "source": [
    "## Libraries to install if other connections than sqlite\n",
    "# !pip install pymysql # For MySQL engines\n",
    "# !pip install psycopg2-binary # For PostgreSQL engines"
   ]
  },
  {
   "cell_type": "code",
   "execution_count": 2,
   "metadata": {},
   "outputs": [],
   "source": [
    "import sqlalchemy as db\n",
    "from sqlalchemy import create_engine, text\n",
    "from sqlalchemy.orm import sessionmaker \n",
    "import psycopg2"
   ]
  },
  {
   "cell_type": "code",
   "execution_count": 3,
   "metadata": {},
   "outputs": [],
   "source": [
    "# Define database connection variables\n",
    "DBHOST = \"kayakferiel.cojmtfidq16h.eu-west-3.rds.amazonaws.com\"\n",
    "DBUSER = \"postgres\"\n",
    "DBPASS = \"kayakmedjaoui\"\n",
    "DBNAME = \"\"\n",
    "PORT = \"5432\"\n",
    "REGION = \"eu-west-3b\""
   ]
  },
  {
   "cell_type": "code",
   "execution_count": 4,
   "metadata": {},
   "outputs": [],
   "source": [
    "# Replace YOUR_USERNAME, YOUR_PASSWORD and YOUR_HOSTNAME\n",
    "# by your credentials\n",
    "engine = create_engine(f\"postgresql+psycopg2://{DBUSER}:{DBPASS}@{DBHOST}/{DBNAME}\", echo=True)"
   ]
  },
  {
   "cell_type": "code",
   "execution_count": 5,
   "metadata": {},
   "outputs": [],
   "source": [
    "# Initialize a sessionmaker \n",
    "from sqlalchemy.orm import sessionmaker\n",
    "\n",
    "Session = sessionmaker(bind=engine)\n"
   ]
  },
  {
   "cell_type": "code",
   "execution_count": 241,
   "metadata": {},
   "outputs": [
    {
     "name": "stdout",
     "output_type": "stream",
     "text": [
      "2023-02-18 22:19:01,281 INFO sqlalchemy.engine.Engine select pg_catalog.version()\n",
      "2023-02-18 22:19:01,282 INFO sqlalchemy.engine.Engine [raw sql] {}\n",
      "2023-02-18 22:19:01,295 INFO sqlalchemy.engine.Engine select current_schema()\n",
      "2023-02-18 22:19:01,296 INFO sqlalchemy.engine.Engine [raw sql] {}\n",
      "2023-02-18 22:19:01,309 INFO sqlalchemy.engine.Engine show standard_conforming_strings\n",
      "2023-02-18 22:19:01,310 INFO sqlalchemy.engine.Engine [raw sql] {}\n",
      "2023-02-18 22:19:01,327 INFO sqlalchemy.engine.Engine select relname from pg_class c join pg_namespace n on n.oid=c.relnamespace where pg_catalog.pg_table_is_visible(c.oid) and relname=%(name)s\n",
      "2023-02-18 22:19:01,332 INFO sqlalchemy.engine.Engine [generated in 0.00526s] {'name': 'hotel'}\n",
      "2023-02-18 22:19:01,356 INFO sqlalchemy.engine.Engine BEGIN (implicit)\n",
      "2023-02-18 22:19:01,361 INFO sqlalchemy.engine.Engine \n",
      "CREATE TABLE hotel (\n",
      "\tindex BIGINT, \n",
      "\tcity TEXT, \n",
      "\tname TEXT, \n",
      "\tscore FLOAT(53), \n",
      "\tdescription TEXT, \n",
      "\turl TEXT, \n",
      "\tlat FLOAT(53), \n",
      "\tlon FLOAT(53), \n",
      "\tgps TEXT, \n",
      "\thotel_lat TEXT, \n",
      "\thotel_lon TEXT\n",
      ")\n",
      "\n",
      "\n",
      "2023-02-18 22:19:01,363 INFO sqlalchemy.engine.Engine [no key 0.00192s] {}\n",
      "2023-02-18 22:19:01,381 INFO sqlalchemy.engine.Engine CREATE INDEX ix_hotel_index ON hotel (index)\n",
      "2023-02-18 22:19:01,384 INFO sqlalchemy.engine.Engine [no key 0.00256s] {}\n",
      "2023-02-18 22:19:01,391 INFO sqlalchemy.engine.Engine COMMIT\n",
      "2023-02-18 22:19:01,408 INFO sqlalchemy.engine.Engine BEGIN (implicit)\n",
      "2023-02-18 22:19:01,424 INFO sqlalchemy.engine.Engine INSERT INTO hotel (index, city, name, score, description, url, lat, lon, gps, hotel_lat, hotel_lon) VALUES (%(index)s, %(city)s, %(name)s, %(score)s, %(description)s, %(url)s, %(lat)s, %(lon)s, %(gps)s, %(hotel_lat)s, %(hotel_lon)s)\n",
      "2023-02-18 22:19:01,427 INFO sqlalchemy.engine.Engine [generated in 0.01464s] ({'index': 0, 'city': 'mont saint michel', 'name': 'Au Mont Pour Deux', 'score': 8.3, 'description': 'Managed by a private host', 'url': 'https://www.booking.com/hotel/fr/au-mont-pour-deux.en-gb.html?label=gen173nr-1FCAEoggI46AdIM1gEaE2IAQGYAQm4AQrIAQXYAQHoAQH4AQuIAgGoAgO4AvT8i50GwAIB0g ... (153 characters truncated) ... _rooms=1&group_children=0&req_children=0&hpos=25&hapos=25&sr_order=popularity&srpvid=5d4058fa52460283&srepoch=1671626359&from=searchresults#hotelTmpl', 'lat': 48.6359541, 'lon': -1.511459954959514, 'gps': ['48.61349776', '-1.48584455'], 'hotel_lat': '48.61349776', 'hotel_lon': '-1.48584455'}, {'index': 1, 'city': 'mont saint michel', 'name': 'Gites Bellevue', 'score': 9.3, 'description': 'Managed by a private host', 'url': 'https://www.booking.com/hotel/fr/gites-bellevue.en-gb.html?label=gen173nr-1FCAEoggI46AdIM1gEaE2IAQGYAQm4AQrIAQXYAQHoAQH4AQuIAgGoAgO4AvT8i50GwAIB0gIkZ ... (150 characters truncated) ... _rooms=1&group_children=0&req_children=0&hpos=24&hapos=24&sr_order=popularity&srpvid=5d4058fa52460283&srepoch=1671626359&from=searchresults#hotelTmpl', 'lat': 48.6359541, 'lon': -1.511459954959514, 'gps': ['48.60788007', '-1.51722372'], 'hotel_lat': '48.60788007', 'hotel_lon': '-1.51722372'}, {'index': 2, 'city': 'mont saint michel', 'name': \"Chambres d'Hôtes Les Vieilles Digues\", 'score': 9.3, 'description': 'Set in a renovated Breton-style house, this family-run B&B is located in Beauvoir, 3 km from Mont-Saint-Michel. ', 'url': 'https://www.booking.com/hotel/fr/chambres-d-ha-tes-les-vieilles-digues.en-gb.html?label=gen173nr-1FCAEoggI46AdIM1gEaE2IAQGYAQm4AQrIAQXYAQHoAQH4AQuIAg ... (173 characters truncated) ... _rooms=1&group_children=0&req_children=0&hpos=23&hapos=23&sr_order=popularity&srpvid=5d4058fa52460283&srepoch=1671626359&from=searchresults#hotelTmpl', 'lat': 48.6359541, 'lon': -1.511459954959514, 'gps': ['48.60418750', '-1.51159912'], 'hotel_lat': '48.60418750', 'hotel_lon': '-1.51159912'}, {'index': 3, 'city': 'mont saint michel', 'name': 'Maison au pied du Mont Saint Michel', 'score': 9.0, 'description': \"Boasting garden views, Maison au pied du Mont Saint Michel offers accommodation with a terrace and a kettle, around 21 km from Scriptorial d'Avranches, musee des manuscrits du Mont Saint-Michel. \", 'url': 'https://www.booking.com/hotel/fr/maison-au-pied-du-mont-saint-michel.en-gb.html?label=gen173nr-1FCAEoggI46AdIM1gEaE2IAQGYAQm4AQrIAQXYAQHoAQH4AQuIAgGo ... (171 characters truncated) ... _rooms=1&group_children=0&req_children=0&hpos=22&hapos=22&sr_order=popularity&srpvid=5d4058fa52460283&srepoch=1671626359&from=searchresults#hotelTmpl', 'lat': 48.6359541, 'lon': -1.511459954959514, 'gps': ['48.61267358', '-1.48553065'], 'hotel_lat': '48.61267358', 'hotel_lon': '-1.48553065'}, {'index': 4, 'city': 'mont saint michel', 'name': 'Au Mont Chez Nous Jaccuzi et Sauna', 'score': 9.2, 'description': 'Managed by a private host', 'url': 'https://www.booking.com/hotel/fr/26-route-de-la-rive-ardevon.en-gb.html?label=gen173nr-1FCAEoggI46AdIM1gEaE2IAQGYAQm4AQrIAQXYAQHoAQH4AQuIAgGoAgO4AvT8 ... (163 characters truncated) ... _rooms=1&group_children=0&req_children=0&hpos=20&hapos=20&sr_order=popularity&srpvid=5d4058fa52460283&srepoch=1671626359&from=searchresults#hotelTmpl', 'lat': 48.6359541, 'lon': -1.511459954959514, 'gps': ['48.61345530', '-1.48587230'], 'hotel_lat': '48.61345530', 'hotel_lon': '-1.48587230'}, {'index': 5, 'city': 'mont saint michel', 'name': 'Les 2 Clos', 'score': 8.8, 'description': 'Featuring free bikes, Les 2 Clos features accommodation in Ardevon. All of the holiday homes feature a private bathroom, flat-screen TV, fully-equipped kitchen and terrace. ', 'url': 'https://www.booking.com/hotel/fr/les-deux-clos-pontorson.en-gb.html?label=gen173nr-1FCAEoggI46AdIM1gEaE2IAQGYAQm4AQrIAQXYAQHoAQH4AQuIAgGoAgO4AvT8i50G ... (159 characters truncated) ... _rooms=1&group_children=0&req_children=0&hpos=21&hapos=21&sr_order=popularity&srpvid=5d4058fa52460283&srepoch=1671626359&from=searchresults#hotelTmpl', 'lat': 48.6359541, 'lon': -1.511459954959514, 'gps': ['48.61396610', '-1.48579173'], 'hotel_lat': '48.61396610', 'hotel_lon': '-1.48579173'}, {'index': 6, 'city': 'mont saint michel', 'name': 'Vent des Grèves', 'score': 9.2, 'description': 'Vent des Grèves features garden views, free WiFi and free private parking, set in Pontorson, 8.1 km from Mont Saint Michel Abbey. ', 'url': 'https://www.booking.com/hotel/fr/vent-des-greves-pontorson.en-gb.html?label=gen173nr-1FCAEoggI46AdIM1gEaE2IAQGYAQm4AQrIAQXYAQHoAQH4AQuIAgGoAgO4AvT8i5 ... (161 characters truncated) ... _rooms=1&group_children=0&req_children=0&hpos=18&hapos=18&sr_order=popularity&srpvid=5d4058fa52460283&srepoch=1671626359&from=searchresults#hotelTmpl', 'lat': 48.6359541, 'lon': -1.511459954959514, 'gps': ['48.61540300', '-1.49144000'], 'hotel_lat': '48.61540300', 'hotel_lon': '-1.49144000'}, {'index': 7, 'city': 'mont saint michel', 'name': 'Mon Saint Michel', 'score': 8.8, 'description': 'Set 8.6 km from Mont Saint Michel Abbey, Mon Saint Michel offers accommodation with free bikes, a garden and a 24-hour front desk for your convenience. ', 'url': 'https://www.booking.com/hotel/fr/mon-saint-michel.en-gb.html?label=gen173nr-1FCAEoggI46AdIM1gEaE2IAQGYAQm4AQrIAQXYAQHoAQH4AQuIAgGoAgO4AvT8i50GwAIB0gI ... (183 characters truncated) ... hildren=0&hpos=19&hapos=19&sr_order=popularity&srpvid=5d4058fa52460283&srepoch=1671626359&from_sustainable_property_sr=1&from=searchresults#hotelTmpl', 'lat': 48.6359541, 'lon': -1.511459954959514, 'gps': ['48.61362700', '-1.48579100'], 'hotel_lat': '48.61362700', 'hotel_lon': '-1.48579100'}  ... displaying 10 of 860 total bound parameter sets ...  {'index': 33423, 'city': 'la rochelle', 'name': 'Hôtel La Monnaie Art & Spa', 'score': 8.6, 'description': 'Ideally set in the historic La Rochelle, this 17th-century building overlooks the old harbour. Hôtel De La Monnaie is decorated by artworks and features a terrace and a wellness centre. ', 'url': 'https://www.booking.com/hotel/fr/de-la-monnaie.en-gb.html?label=gen173nr-1FCAEoggI46AdIM1gEaE2IAQGYAQm4AQrIAQXYAQHoAQH4AQuIAgGoAgO4AvT8i50GwAIB0gIkZT ... (178 characters truncated) ... _children=0&hpos=1&hapos=1&sr_order=popularity&srpvid=3d5258fcd4dd01f0&srepoch=1671626361&from_sustainable_property_sr=1&from=searchresults#hotelTmpl', 'lat': 46.1591126, 'lon': -1.1520434, 'gps': ['46.15630080', '-1.15810812'], 'hotel_lat': '46.15630080', 'hotel_lon': '-1.15810812'}, {'index': 33424, 'city': 'la rochelle', 'name': 'Central Park Hôtel & Spa', 'score': 8.7, 'description': 'The 4-star Central Park Hôtel & Spa is situated a 10-minute walk from the heart of La Rochelle, within walking distance from the beach, and next to the Old Harbour. ', 'url': 'https://www.booking.com/hotel/fr/central-park-amp-spa.en-gb.html?label=gen173nr-1FCAEoggI46AdIM1gEaE2IAQGYAQm4AQrIAQXYAQHoAQH4AQuIAgGoAgO4AvT8i50GwAI ... (185 characters truncated) ... _children=0&hpos=2&hapos=2&sr_order=popularity&srpvid=3d5258fcd4dd01f0&srepoch=1671626361&from_sustainable_property_sr=1&from=searchresults#hotelTmpl', 'lat': 46.1591126, 'lon': -1.1520434, 'gps': ['46.15891333', '-1.16082335'], 'hotel_lat': '46.15891333', 'hotel_lon': '-1.16082335'})\n",
      "2023-02-18 22:19:01,805 INFO sqlalchemy.engine.Engine COMMIT\n"
     ]
    },
    {
     "data": {
      "text/plain": [
       "860"
      ]
     },
     "execution_count": 241,
     "metadata": {},
     "output_type": "execute_result"
    }
   ],
   "source": [
    "# Create tables on RDS from our dataframes\n",
    "df_hotels.to_sql(\"hotel\", engine)\n",
    "df_weather.to_sql(\"weather\", engine)"
   ]
  },
  {
   "cell_type": "code",
   "execution_count": 6,
   "metadata": {},
   "outputs": [
    {
     "name": "stdout",
     "output_type": "stream",
     "text": [
      "2023-02-23 19:26:25,400 INFO sqlalchemy.engine.Engine select pg_catalog.version()\n",
      "2023-02-23 19:26:25,406 INFO sqlalchemy.engine.Engine [raw sql] {}\n",
      "2023-02-23 19:26:25,417 INFO sqlalchemy.engine.Engine select current_schema()\n",
      "2023-02-23 19:26:25,421 INFO sqlalchemy.engine.Engine [raw sql] {}\n",
      "2023-02-23 19:26:25,433 INFO sqlalchemy.engine.Engine show standard_conforming_strings\n",
      "2023-02-23 19:26:25,435 INFO sqlalchemy.engine.Engine [raw sql] {}\n",
      "2023-02-23 19:26:25,452 INFO sqlalchemy.engine.Engine select relname from pg_class c join pg_namespace n on n.oid=c.relnamespace where pg_catalog.pg_table_is_visible(c.oid) and relname=%(name)s\n",
      "2023-02-23 19:26:25,453 INFO sqlalchemy.engine.Engine [generated in 0.00102s] {'name': 'SELECT * FROM weather'}\n",
      "2023-02-23 19:26:25,473 INFO sqlalchemy.engine.Engine SELECT * FROM weather\n",
      "2023-02-23 19:26:25,474 INFO sqlalchemy.engine.Engine [generated in 0.00159s] {}\n"
     ]
    }
   ],
   "source": [
    "# SQL request to get all the information of the table weather & create a panda dataframe with the results\n",
    "best_cities_weather_sql= text(\"SELECT * FROM weather\")\n",
    "best_cities_weather = pd.read_sql(best_cities_weather_sql, engine).drop('index', axis=1)"
   ]
  },
  {
   "cell_type": "code",
   "execution_count": 7,
   "metadata": {},
   "outputs": [],
   "source": [
    "# We create a dataframe with the temperature mean for each city in a dicreasing order\n",
    "best_cities_weather = best_cities_weather.groupby(by='city', as_index = False).mean().sort_values(by = 'temperature',ascending = False)"
   ]
  },
  {
   "cell_type": "code",
   "execution_count": 8,
   "metadata": {},
   "outputs": [],
   "source": [
    "# We keep only the 5 first cities and create a list with their names\n",
    "cities=best_cities_weather.head(5)\n",
    "Top5_cities=cities.city.tolist()"
   ]
  },
  {
   "cell_type": "code",
   "execution_count": 9,
   "metadata": {},
   "outputs": [
    {
     "name": "stdout",
     "output_type": "stream",
     "text": [
      "2023-02-23 19:26:40,254 INFO sqlalchemy.engine.Engine select relname from pg_class c join pg_namespace n on n.oid=c.relnamespace where pg_catalog.pg_table_is_visible(c.oid) and relname=%(name)s\n",
      "2023-02-23 19:26:40,267 INFO sqlalchemy.engine.Engine [cached since 14.82s ago] {'name': 'SELECT * FROM hotel '}\n",
      "2023-02-23 19:26:40,292 INFO sqlalchemy.engine.Engine SELECT * FROM hotel \n",
      "2023-02-23 19:26:40,304 INFO sqlalchemy.engine.Engine [generated in 0.01138s] {}\n"
     ]
    }
   ],
   "source": [
    "# SQL request to get all the information of the table hotel & create a panda dataframe with the results\n",
    "best_hotels_sql = text(\"SELECT * FROM hotel \")\n",
    "best_hotels = pd.read_sql(best_hotels_sql, engine).drop('index', axis=1)"
   ]
  },
  {
   "cell_type": "code",
   "execution_count": 10,
   "metadata": {},
   "outputs": [],
   "source": [
    "#We keep only the hotels located in a city of our top 5 cities we sort the dataframe by city and score of the hotel on booking\n",
    "selected_hotels= best_hotels[best_hotels[\"city\"].isin (Top5_cities)].sort_values(by = ['city','score'],ascending = False)"
   ]
  },
  {
   "cell_type": "code",
   "execution_count": 11,
   "metadata": {},
   "outputs": [],
   "source": [
    "#we create a dataframe for each city and 20 best hotels in order to create a map\n",
    "hotel_city1=selected_hotels[selected_hotels['city']==Top5_cities[0]].head(20)\n",
    "hotel_city2=selected_hotels[selected_hotels['city']==Top5_cities[1]].head(20)\n",
    "hotel_city3=selected_hotels[selected_hotels['city']==Top5_cities[2]].head(20)\n",
    "hotel_city4=selected_hotels[selected_hotels['city']==Top5_cities[3]].head(20)\n",
    "hotel_city5=selected_hotels[selected_hotels['city']==Top5_cities[4]].head(20)"
   ]
  },
  {
   "cell_type": "code",
   "execution_count": 12,
   "metadata": {},
   "outputs": [],
   "source": [
    "# We concatenate all previous dataframe into one\n",
    "all_hotels=pd.concat([hotel_city1, hotel_city2,hotel_city3,hotel_city4,hotel_city5], axis=0)"
   ]
  },
  {
   "attachments": {},
   "cell_type": "markdown",
   "metadata": {},
   "source": [
    "## Vizualisations"
   ]
  },
  {
   "attachments": {},
   "cell_type": "markdown",
   "metadata": {},
   "source": [
    "Weather vizualisation"
   ]
  },
  {
   "cell_type": "code",
   "execution_count": 17,
   "metadata": {},
   "outputs": [
    {
     "data": {
      "application/vnd.plotly.v1+json": {
       "config": {
        "plotlyServerURL": "https://plot.ly"
       },
       "data": [
        {
         "hovertemplate": "<b>%{hovertext}</b><br><br>temperature=%{marker.color}<br>lat=%{lat}<br>lon=%{lon}<extra></extra>",
         "hovertext": [
          "marseille",
          "cassis",
          "collioure",
          "saintes maries de la mer",
          "aigues mortes"
         ],
         "lat": [
          43.2961743,
          43.2140359,
          42.52505,
          43.4522771,
          43.5658225
         ],
         "legendgroup": "",
         "lon": [
          5.3699525,
          5.5396318,
          3.0831554,
          4.4287172,
          4.1912837
         ],
         "marker": {
          "color": [
           12.5825,
           12.488499999999998,
           12.26275,
           11.81275,
           11.66075
          ],
          "coloraxis": "coloraxis",
          "size": [
           12.5825,
           12.488499999999998,
           12.26275,
           11.81275,
           11.66075
          ],
          "sizemode": "area",
          "sizeref": 0.03145625
         },
         "mode": "markers",
         "name": "",
         "showlegend": false,
         "subplot": "mapbox",
         "type": "scattermapbox"
        }
       ],
       "layout": {
        "coloraxis": {
         "colorbar": {
          "title": {
           "text": "temperature"
          }
         },
         "colorscale": [
          [
           0,
           "#0d0887"
          ],
          [
           0.1111111111111111,
           "#46039f"
          ],
          [
           0.2222222222222222,
           "#7201a8"
          ],
          [
           0.3333333333333333,
           "#9c179e"
          ],
          [
           0.4444444444444444,
           "#bd3786"
          ],
          [
           0.5555555555555556,
           "#d8576b"
          ],
          [
           0.6666666666666666,
           "#ed7953"
          ],
          [
           0.7777777777777778,
           "#fb9f3a"
          ],
          [
           0.8888888888888888,
           "#fdca26"
          ],
          [
           1,
           "#f0f921"
          ]
         ]
        },
        "height": 600,
        "legend": {
         "itemsizing": "constant",
         "tracegroupgap": 0
        },
        "mapbox": {
         "center": {
          "lat": 43.21067196,
          "lon": 4.522548120000001
         },
         "domain": {
          "x": [
           0,
           1
          ],
          "y": [
           0,
           1
          ]
         },
         "style": "carto-darkmatter",
         "zoom": 4
        },
        "paper_bgcolor": "#2d3035",
        "plot_bgcolor": "#2d3035",
        "template": {
         "data": {
          "bar": [
           {
            "error_x": {
             "color": "#f2f5fa"
            },
            "error_y": {
             "color": "#f2f5fa"
            },
            "marker": {
             "line": {
              "color": "rgb(17,17,17)",
              "width": 0.5
             },
             "pattern": {
              "fillmode": "overlay",
              "size": 10,
              "solidity": 0.2
             }
            },
            "type": "bar"
           }
          ],
          "barpolar": [
           {
            "marker": {
             "line": {
              "color": "rgb(17,17,17)",
              "width": 0.5
             },
             "pattern": {
              "fillmode": "overlay",
              "size": 10,
              "solidity": 0.2
             }
            },
            "type": "barpolar"
           }
          ],
          "carpet": [
           {
            "aaxis": {
             "endlinecolor": "#A2B1C6",
             "gridcolor": "#506784",
             "linecolor": "#506784",
             "minorgridcolor": "#506784",
             "startlinecolor": "#A2B1C6"
            },
            "baxis": {
             "endlinecolor": "#A2B1C6",
             "gridcolor": "#506784",
             "linecolor": "#506784",
             "minorgridcolor": "#506784",
             "startlinecolor": "#A2B1C6"
            },
            "type": "carpet"
           }
          ],
          "choropleth": [
           {
            "colorbar": {
             "outlinewidth": 0,
             "ticks": ""
            },
            "type": "choropleth"
           }
          ],
          "contour": [
           {
            "colorbar": {
             "outlinewidth": 0,
             "ticks": ""
            },
            "colorscale": [
             [
              0,
              "#0d0887"
             ],
             [
              0.1111111111111111,
              "#46039f"
             ],
             [
              0.2222222222222222,
              "#7201a8"
             ],
             [
              0.3333333333333333,
              "#9c179e"
             ],
             [
              0.4444444444444444,
              "#bd3786"
             ],
             [
              0.5555555555555556,
              "#d8576b"
             ],
             [
              0.6666666666666666,
              "#ed7953"
             ],
             [
              0.7777777777777778,
              "#fb9f3a"
             ],
             [
              0.8888888888888888,
              "#fdca26"
             ],
             [
              1,
              "#f0f921"
             ]
            ],
            "type": "contour"
           }
          ],
          "contourcarpet": [
           {
            "colorbar": {
             "outlinewidth": 0,
             "ticks": ""
            },
            "type": "contourcarpet"
           }
          ],
          "heatmap": [
           {
            "colorbar": {
             "outlinewidth": 0,
             "ticks": ""
            },
            "colorscale": [
             [
              0,
              "#0d0887"
             ],
             [
              0.1111111111111111,
              "#46039f"
             ],
             [
              0.2222222222222222,
              "#7201a8"
             ],
             [
              0.3333333333333333,
              "#9c179e"
             ],
             [
              0.4444444444444444,
              "#bd3786"
             ],
             [
              0.5555555555555556,
              "#d8576b"
             ],
             [
              0.6666666666666666,
              "#ed7953"
             ],
             [
              0.7777777777777778,
              "#fb9f3a"
             ],
             [
              0.8888888888888888,
              "#fdca26"
             ],
             [
              1,
              "#f0f921"
             ]
            ],
            "type": "heatmap"
           }
          ],
          "heatmapgl": [
           {
            "colorbar": {
             "outlinewidth": 0,
             "ticks": ""
            },
            "colorscale": [
             [
              0,
              "#0d0887"
             ],
             [
              0.1111111111111111,
              "#46039f"
             ],
             [
              0.2222222222222222,
              "#7201a8"
             ],
             [
              0.3333333333333333,
              "#9c179e"
             ],
             [
              0.4444444444444444,
              "#bd3786"
             ],
             [
              0.5555555555555556,
              "#d8576b"
             ],
             [
              0.6666666666666666,
              "#ed7953"
             ],
             [
              0.7777777777777778,
              "#fb9f3a"
             ],
             [
              0.8888888888888888,
              "#fdca26"
             ],
             [
              1,
              "#f0f921"
             ]
            ],
            "type": "heatmapgl"
           }
          ],
          "histogram": [
           {
            "marker": {
             "pattern": {
              "fillmode": "overlay",
              "size": 10,
              "solidity": 0.2
             }
            },
            "type": "histogram"
           }
          ],
          "histogram2d": [
           {
            "colorbar": {
             "outlinewidth": 0,
             "ticks": ""
            },
            "colorscale": [
             [
              0,
              "#0d0887"
             ],
             [
              0.1111111111111111,
              "#46039f"
             ],
             [
              0.2222222222222222,
              "#7201a8"
             ],
             [
              0.3333333333333333,
              "#9c179e"
             ],
             [
              0.4444444444444444,
              "#bd3786"
             ],
             [
              0.5555555555555556,
              "#d8576b"
             ],
             [
              0.6666666666666666,
              "#ed7953"
             ],
             [
              0.7777777777777778,
              "#fb9f3a"
             ],
             [
              0.8888888888888888,
              "#fdca26"
             ],
             [
              1,
              "#f0f921"
             ]
            ],
            "type": "histogram2d"
           }
          ],
          "histogram2dcontour": [
           {
            "colorbar": {
             "outlinewidth": 0,
             "ticks": ""
            },
            "colorscale": [
             [
              0,
              "#0d0887"
             ],
             [
              0.1111111111111111,
              "#46039f"
             ],
             [
              0.2222222222222222,
              "#7201a8"
             ],
             [
              0.3333333333333333,
              "#9c179e"
             ],
             [
              0.4444444444444444,
              "#bd3786"
             ],
             [
              0.5555555555555556,
              "#d8576b"
             ],
             [
              0.6666666666666666,
              "#ed7953"
             ],
             [
              0.7777777777777778,
              "#fb9f3a"
             ],
             [
              0.8888888888888888,
              "#fdca26"
             ],
             [
              1,
              "#f0f921"
             ]
            ],
            "type": "histogram2dcontour"
           }
          ],
          "mesh3d": [
           {
            "colorbar": {
             "outlinewidth": 0,
             "ticks": ""
            },
            "type": "mesh3d"
           }
          ],
          "parcoords": [
           {
            "line": {
             "colorbar": {
              "outlinewidth": 0,
              "ticks": ""
             }
            },
            "type": "parcoords"
           }
          ],
          "pie": [
           {
            "automargin": true,
            "type": "pie"
           }
          ],
          "scatter": [
           {
            "marker": {
             "line": {
              "color": "#283442"
             }
            },
            "type": "scatter"
           }
          ],
          "scatter3d": [
           {
            "line": {
             "colorbar": {
              "outlinewidth": 0,
              "ticks": ""
             }
            },
            "marker": {
             "colorbar": {
              "outlinewidth": 0,
              "ticks": ""
             }
            },
            "type": "scatter3d"
           }
          ],
          "scattercarpet": [
           {
            "marker": {
             "colorbar": {
              "outlinewidth": 0,
              "ticks": ""
             }
            },
            "type": "scattercarpet"
           }
          ],
          "scattergeo": [
           {
            "marker": {
             "colorbar": {
              "outlinewidth": 0,
              "ticks": ""
             }
            },
            "type": "scattergeo"
           }
          ],
          "scattergl": [
           {
            "marker": {
             "line": {
              "color": "#283442"
             }
            },
            "type": "scattergl"
           }
          ],
          "scattermapbox": [
           {
            "marker": {
             "colorbar": {
              "outlinewidth": 0,
              "ticks": ""
             }
            },
            "type": "scattermapbox"
           }
          ],
          "scatterpolar": [
           {
            "marker": {
             "colorbar": {
              "outlinewidth": 0,
              "ticks": ""
             }
            },
            "type": "scatterpolar"
           }
          ],
          "scatterpolargl": [
           {
            "marker": {
             "colorbar": {
              "outlinewidth": 0,
              "ticks": ""
             }
            },
            "type": "scatterpolargl"
           }
          ],
          "scatterternary": [
           {
            "marker": {
             "colorbar": {
              "outlinewidth": 0,
              "ticks": ""
             }
            },
            "type": "scatterternary"
           }
          ],
          "surface": [
           {
            "colorbar": {
             "outlinewidth": 0,
             "ticks": ""
            },
            "colorscale": [
             [
              0,
              "#0d0887"
             ],
             [
              0.1111111111111111,
              "#46039f"
             ],
             [
              0.2222222222222222,
              "#7201a8"
             ],
             [
              0.3333333333333333,
              "#9c179e"
             ],
             [
              0.4444444444444444,
              "#bd3786"
             ],
             [
              0.5555555555555556,
              "#d8576b"
             ],
             [
              0.6666666666666666,
              "#ed7953"
             ],
             [
              0.7777777777777778,
              "#fb9f3a"
             ],
             [
              0.8888888888888888,
              "#fdca26"
             ],
             [
              1,
              "#f0f921"
             ]
            ],
            "type": "surface"
           }
          ],
          "table": [
           {
            "cells": {
             "fill": {
              "color": "#506784"
             },
             "line": {
              "color": "rgb(17,17,17)"
             }
            },
            "header": {
             "fill": {
              "color": "#2a3f5f"
             },
             "line": {
              "color": "rgb(17,17,17)"
             }
            },
            "type": "table"
           }
          ]
         },
         "layout": {
          "annotationdefaults": {
           "arrowcolor": "#f2f5fa",
           "arrowhead": 0,
           "arrowwidth": 1
          },
          "autotypenumbers": "strict",
          "coloraxis": {
           "colorbar": {
            "outlinewidth": 0,
            "ticks": ""
           }
          },
          "colorscale": {
           "diverging": [
            [
             0,
             "#8e0152"
            ],
            [
             0.1,
             "#c51b7d"
            ],
            [
             0.2,
             "#de77ae"
            ],
            [
             0.3,
             "#f1b6da"
            ],
            [
             0.4,
             "#fde0ef"
            ],
            [
             0.5,
             "#f7f7f7"
            ],
            [
             0.6,
             "#e6f5d0"
            ],
            [
             0.7,
             "#b8e186"
            ],
            [
             0.8,
             "#7fbc41"
            ],
            [
             0.9,
             "#4d9221"
            ],
            [
             1,
             "#276419"
            ]
           ],
           "sequential": [
            [
             0,
             "#0d0887"
            ],
            [
             0.1111111111111111,
             "#46039f"
            ],
            [
             0.2222222222222222,
             "#7201a8"
            ],
            [
             0.3333333333333333,
             "#9c179e"
            ],
            [
             0.4444444444444444,
             "#bd3786"
            ],
            [
             0.5555555555555556,
             "#d8576b"
            ],
            [
             0.6666666666666666,
             "#ed7953"
            ],
            [
             0.7777777777777778,
             "#fb9f3a"
            ],
            [
             0.8888888888888888,
             "#fdca26"
            ],
            [
             1,
             "#f0f921"
            ]
           ],
           "sequentialminus": [
            [
             0,
             "#0d0887"
            ],
            [
             0.1111111111111111,
             "#46039f"
            ],
            [
             0.2222222222222222,
             "#7201a8"
            ],
            [
             0.3333333333333333,
             "#9c179e"
            ],
            [
             0.4444444444444444,
             "#bd3786"
            ],
            [
             0.5555555555555556,
             "#d8576b"
            ],
            [
             0.6666666666666666,
             "#ed7953"
            ],
            [
             0.7777777777777778,
             "#fb9f3a"
            ],
            [
             0.8888888888888888,
             "#fdca26"
            ],
            [
             1,
             "#f0f921"
            ]
           ]
          },
          "colorway": [
           "#636efa",
           "#EF553B",
           "#00cc96",
           "#ab63fa",
           "#FFA15A",
           "#19d3f3",
           "#FF6692",
           "#B6E880",
           "#FF97FF",
           "#FECB52"
          ],
          "font": {
           "color": "#f2f5fa"
          },
          "geo": {
           "bgcolor": "rgb(17,17,17)",
           "lakecolor": "rgb(17,17,17)",
           "landcolor": "rgb(17,17,17)",
           "showlakes": true,
           "showland": true,
           "subunitcolor": "#506784"
          },
          "hoverlabel": {
           "align": "left"
          },
          "hovermode": "closest",
          "mapbox": {
           "style": "dark"
          },
          "paper_bgcolor": "rgb(17,17,17)",
          "plot_bgcolor": "rgb(17,17,17)",
          "polar": {
           "angularaxis": {
            "gridcolor": "#506784",
            "linecolor": "#506784",
            "ticks": ""
           },
           "bgcolor": "rgb(17,17,17)",
           "radialaxis": {
            "gridcolor": "#506784",
            "linecolor": "#506784",
            "ticks": ""
           }
          },
          "scene": {
           "xaxis": {
            "backgroundcolor": "rgb(17,17,17)",
            "gridcolor": "#506784",
            "gridwidth": 2,
            "linecolor": "#506784",
            "showbackground": true,
            "ticks": "",
            "zerolinecolor": "#C8D4E3"
           },
           "yaxis": {
            "backgroundcolor": "rgb(17,17,17)",
            "gridcolor": "#506784",
            "gridwidth": 2,
            "linecolor": "#506784",
            "showbackground": true,
            "ticks": "",
            "zerolinecolor": "#C8D4E3"
           },
           "zaxis": {
            "backgroundcolor": "rgb(17,17,17)",
            "gridcolor": "#506784",
            "gridwidth": 2,
            "linecolor": "#506784",
            "showbackground": true,
            "ticks": "",
            "zerolinecolor": "#C8D4E3"
           }
          },
          "shapedefaults": {
           "line": {
            "color": "#f2f5fa"
           }
          },
          "sliderdefaults": {
           "bgcolor": "#C8D4E3",
           "bordercolor": "rgb(17,17,17)",
           "borderwidth": 1,
           "tickwidth": 0
          },
          "ternary": {
           "aaxis": {
            "gridcolor": "#506784",
            "linecolor": "#506784",
            "ticks": ""
           },
           "baxis": {
            "gridcolor": "#506784",
            "linecolor": "#506784",
            "ticks": ""
           },
           "bgcolor": "rgb(17,17,17)",
           "caxis": {
            "gridcolor": "#506784",
            "linecolor": "#506784",
            "ticks": ""
           }
          },
          "title": {
           "x": 0.05
          },
          "updatemenudefaults": {
           "bgcolor": "#506784",
           "borderwidth": 0
          },
          "xaxis": {
           "automargin": true,
           "gridcolor": "#283442",
           "linecolor": "#506784",
           "ticks": "",
           "title": {
            "standoff": 15
           },
           "zerolinecolor": "#283442",
           "zerolinewidth": 2
          },
          "yaxis": {
           "automargin": true,
           "gridcolor": "#283442",
           "linecolor": "#506784",
           "ticks": "",
           "title": {
            "standoff": 15
           },
           "zerolinecolor": "#283442",
           "zerolinewidth": 2
          }
         }
        },
        "title": {
         "text": "TOP 5 cities in France",
         "x": 0.5
        },
        "width": 800
       }
      }
     },
     "metadata": {},
     "output_type": "display_data"
    }
   ],
   "source": [
    "# Display weather map base on the higher temperatures\n",
    "fig = px.scatter_mapbox(cities,\n",
    "                        title='TOP 5 cities in France',\n",
    "                        lat = 'lat',\n",
    "                        lon = 'lon',\n",
    "                        size_max = 20,\n",
    "                        hover_name = 'city',\n",
    "                        color='temperature',\n",
    "                        size='temperature'\n",
    "                        )\n",
    "fig.update_layout(width = 800,\n",
    "                  height = 600,\n",
    "                  title_x = 0.5, \n",
    "                  template = 'plotly_dark',\n",
    "                  mapbox = {\"style\": \"carto-darkmatter\", \"zoom\": 4},\n",
    "                 plot_bgcolor='#2d3035', paper_bgcolor='#2d3035')\n",
    "\n",
    "                  \n",
    "                \n",
    "\n",
    "fig.show()"
   ]
  },
  {
   "cell_type": "code",
   "execution_count": 19,
   "metadata": {},
   "outputs": [],
   "source": [
    "# We transform score, hotel longitude and latitude to numeric data for our next steps\n",
    "all_hotels[\"score\"] = pd.to_numeric(all_hotels[\"score\"])\n",
    "all_hotels[\"hotel_lat\"] = pd.to_numeric(all_hotels[\"hotel_lat\"]).round(decimals=6)\n",
    "all_hotels[\"hotel_lon\"] = pd.to_numeric(all_hotels[\"hotel_lon\"]).round(decimals=6)"
   ]
  },
  {
   "cell_type": "code",
   "execution_count": 24,
   "metadata": {},
   "outputs": [
    {
     "data": {
      "application/vnd.plotly.v1+json": {
       "config": {
        "plotlyServerURL": "https://plot.ly"
       },
       "data": [
        {
         "customdata": [
          [
           "Boasting sea views, Sublime appart Bd Bompard cosy, vue mer, 2ch features accommodation with a terrace and a kettle, around less than 1 km from Fausse Monnaie. ",
           "Sublime appart Bd Bompard cosy, vue mer, 2ch",
           10
          ],
          [
           "Managed by a private host",
           "SUD PASSION - Sakakini - calme - 3 chambres - lumineux - fibre",
           10
          ],
          [
           "Located in the centre of Marseille, Les Appartements du Vieux Port is 150 metres from the Old Port. The apartments offer free WiFi and a modern-style décor. ",
           "Les Appartements du Vieux Port",
           9.5
          ],
          [
           "Managed by a private host",
           "Le Plaisir 1827",
           9.1
          ],
          [
           "Situated in Marseille, near Saint-Ferreol Street, Vieux Port Metro station and Castellane Metro Station, Maison Juste features free WiFi, and guests can enjoy a shared lounge and a terrace. ",
           "Maison Juste",
           9
          ],
          [
           "Managed by a private host",
           "Superbe appart 3 p, 10 mn de la plage avec piscine et parking",
           9
          ],
          [
           "Managed by a private host",
           "Cocon au Soleil 1827",
           8.7
          ],
          [
           "La Résidence Du Vieux Port is set right on the banks of the Old Port in central Marseille. It offers modern rooms and suites with panoramic views of the city. Free WiFi access is available. ",
           "La Residence Du Vieux Port",
           8.6
          ],
          [
           "Overlooking the Old Port, Maisons du Monde Hôtel & Suites - Marseille Vieux Port is located in the heart of Marseille. It offers modern air-conditioned rooms and free WiFi. ",
           "Maisons du Monde Hôtel & Suites - Marseille Vieux Port",
           8.4
          ],
          [
           "Managed by a private host",
           "Appartement climatisé hyper centre de Marseille",
           8.3
          ],
          [
           "InterContinental Marseille - Hotel Dieu is set in a superb 18th century building in the historic quarter of Marseille, 350 metres from the Old Port. WiFi access is available. ",
           "InterContinental Marseille - Hotel Dieu, an IHG Hotel",
           8.3
          ],
          [
           "Hôtel Life Marseille VP - Vieux Port is set in an 18th-century stone building opposite the Vieux Port in Marseille's city centre. ",
           "Hôtel Life Marseille VP - Vieux Port",
           8.3
          ],
          [
           "Boasting free access to a spa, sauna and hammam, Sofitel Marseille Vieux-Port also features 3 terraces overlooking Marseille's Old Port. ",
           "Sofitel Marseille Vieux-Port",
           8.3
          ],
          [
           "New Hotel Le Quai - Vieux Port is located in central Marseille, overlooking the Old Port and La Canebière shopping street. This hotel offers soundproofed rooms with air-conditioning and satellite TV. ",
           "New Hotel Le Quai - Vieux Port",
           8.3
          ],
          [
           "Featuring a bar, shared lounge and views of city, Mercure Marseille Canebière Vieux-Port is located in Marseille, 2.3 km from Plage des Catalans. ",
           "Mercure Marseille Canebière Vieux-Port",
           8.2
          ],
          [
           "Managed by a private host",
           "Magnifique T5 (12pers) 129m²-Climatisé-Vieux-Port",
           8
          ],
          [
           "Boasting a spacious terrace, a boules pitch and a concept store, the Hotel Montgrand House - Old Port with its 49 rooms and 13 apartments is located in the centre of Marseille, just 5 minutes' walk...",
           "Hôtel Maison Montgrand - Vieux Port",
           8
          ],
          [
           "Offering garden views, a garden and free WiFi, LE PANIER ENCHANTÉ - Suites & Loft - Terrasse et patio au dessus du Vieux Port offers accommodation ideally located in Marseille, within a short distance...",
           "LE PANIER ENCHANTÉ - Suites & Loft - Terrasse et patio au dessus du Vieux Port",
           7.9
          ],
          [
           "Hôtel ibis Styles Marseille Gare Saint-Charles is located opposite St-Charles SNCF Train Station and is an 8-minute walk from the Old Port. ",
           "ibis Styles Marseille Gare Saint-Charles",
           7.8
          ],
          [
           "Set in Marseille, just a 5-minute walk from Marseille Saint Charles Train Station, Toyoko INN Marseille Saint Charles features a garden and free WiFi. The hotel is easily accessible from A7 highway. ",
           "Toyoko INN Marseille Saint Charles",
           7.8
          ],
          [
           "Managed by a private host",
           "Le Corton - 45m2 - Parking - Jardin - Wifi",
           10
          ],
          [
           "Managed by a private host",
           "LE SEPT charmant studio aux portes des calanques",
           9.7
          ],
          [
           "Offering city views, Plage & Calanques Cassis is an accommodation located in Cassis, 1.5 km from Grande Mer and 1.9 km from Anse de Corton Beach. ",
           "Plage & Calanques Cassis",
           9.7
          ],
          [
           "Managed by a private host",
           "Chambre d'hôtes Clos du Petit Jésus",
           9.5
          ],
          [
           "Managed by a private host",
           "SunSet Cassis",
           9.4
          ],
          [
           "Managed by a private host",
           "La douceur de Cassis",
           9.3
          ],
          [
           "Offering a shared outdoor pool with a terrace and views of the sea, HPC Suites is situated in a 4000 metres² park in the centre of Cassis. ",
           "HPC Suites",
           9.2
          ],
          [
           "Managed by a private host",
           "Cassis Ma Vie Là",
           9.1
          ],
          [
           "Managed by a private host",
           "L'Oustau par Dodo à Cassis",
           9
          ],
          [
           "Managed by a private host",
           "CALANQUE DE PORT MIOU",
           8.7
          ],
          [
           "Managed by a private host",
           "CALANQUE D'EN VAU",
           8.7
          ],
          [
           "Managed by a private host",
           "Appartement Cassis vue mer d'exception",
           8.6
          ],
          [
           "Managed by a private host",
           "appartement du pêcheur à Cassis à 10 mètres du port",
           8.6
          ],
          [
           "Situated in Cassis, 1.1 km from Grande Mer and 1.4 km from Bestouan, LE REVE BLEU offers a casino and air conditioning. ",
           "LE REVE BLEU",
           8.6
          ],
          [
           "Sweet SEA HOME vue mer is a beachfront property set in Cassis, 800 metres from Bestouan and 1.2 km from Anse de Corton Beach. ",
           "Sweet SEA HOME vue mer",
           8.5
          ],
          [
           "Located in Cassis, just 400 metres from Bestouan, UNE TERRASSE SUR LA MER 3 pers 2 chambres VUE MER provides beachfront accommodation with a terrace and free WiFi. ",
           "UNE TERRASSE SUR LA MER 3 pers 2 chambres VUE MER",
           8.5
          ],
          [
           "Situated in Cassis, 500 metres from Bestouan and 500 metres from Grande Mer, HORIZON BLEU Vue Mer offers free WiFi and air conditioning. ",
           "HORIZON BLEU Vue Mer",
           8.4
          ],
          [
           "Managed by a private host",
           "appartement cosy à 10 mètres du port de Cassis",
           8.3
          ],
          [
           "Managed by a private host",
           "Le Duplex",
           8.2
          ],
          [
           "CALYPSO is a beachfront property located in Cassis, 700 metres from Bestouan and 1.2 km from Anse de Corton Beach. ",
           "CALYPSO",
           8.2
          ],
          [
           "Managed by a private host",
           "La Casa Machado 2",
           10
          ],
          [
           "Managed by a private host",
           "Le Mouret",
           9.7
          ],
          [
           "Managed by a private host",
           "Les mimosas",
           9.5
          ],
          [
           "Located in Collioure, 200 metres from Port Avall Beach and 400 metres from Boramar Beach, Les Suites de Collioure provides city views and free WiFi. ",
           "Les Suites de Collioure",
           9.4
          ],
          [
           "Featuring air conditioning, Le 15-Appartments Collioure offers pet-friendly accommodation in Collioure. Roses is 30 km from the property. Private parking is available on site. ",
           "Le 15-Appartments Collioure",
           9.3
          ],
          [
           "Managed by a private host",
           "Au coeur de Collioure",
           9.3
          ],
          [
           "Managed by a private host",
           "Les hauteurs de Collioure",
           9.3
          ],
          [
           "Managed by a private host",
           "SAPHIR - Superbe T2 Vue Mer et Montagne avec PISCINE et GARAGE PRIVE",
           9.1
          ],
          [
           "Managed by a private host",
           "location Coma Chéric",
           9.1
          ],
          [
           "Located in Collioure, 70 metres from Balette Beach, Les Roches Brunes provides accommodation with a restaurant, free private parking, a bar and a garden. ",
           "Les Roches Brunes",
           9.1
          ],
          [
           "Featuring sea views, Appartement Les Roches Bleues - 5RB14 provides accommodation with a terrace and a coffee machine, around 200 metres from Oli Beach. ",
           "Appartement Les Roches Bleues - 5RB14",
           9
          ],
          [
           "Just 500 metres from Collioure town centre and a 10-minute walk from the beach is Le Madeloc Hôtel & Spa. ",
           "Le Madeloc Hôtel & Spa",
           8.8
          ],
          [
           "Situated 250 metres from Collioure beach and port, Hôtel La Casa Pairal features an exotic floral garden and a heated outdoor swimming pool. ",
           "Hôtel La Casa Pairal",
           8.8
          ],
          [
           "Featuring sea views, Villa 6 personnes dans résidence 6CHK4 features accommodation with a balcony and a kettle, around 1.1 km from Boramar Beach. ",
           "Villa 6 personnes dans résidence 6CHK4",
           8.7
          ],
          [
           "Maison de vacances Faubourg - 6LAM16 is a beachfront property located in Collioure, 200 metres from Port Avall Beach and 400 metres from Boutigue Beach. ",
           "Maison de vacances Faubourg - 6LAM16",
           8.5
          ],
          [
           "Managed by a private host",
           "Appartement de charme à 50m de la plage de sable",
           8.5
          ],
          [
           "Featuring a restaurant, a bar and a shared lounge, La Frégate is located in Collioure and is 200 metres from Boramar Beach. ",
           "La Frégate",
           8.2
          ],
          [
           "Set in Collioure, 80 metres from Boramar Beach and 200 metres from Nord Beach, Résidence Saint Vincent offers city views and free WiFi. ",
           "Résidence Saint Vincent",
           8
          ],
          [
           "Managed by a private host",
           "Charmant T2 rénové, parking, piscine, plage à 150m",
           8
          ],
          [
           "Located in the centre of Collioure, just 250 metres from the beach, this hotel offers air-conditioned guestrooms in a traditional Catalan building. Free Wi-Fi is available throughout the hotel. ",
           "Le Mas des Citronniers",
           8
          ],
          [
           "Featuring free WiFi, Mas des Cabidoules offers accommodation in Saintes-Maries-de-la-Mer, 1.9 km from Eglise des Stes Maries. The bed and breakfast has an outdoor pool and views of the lake. ",
           "Mas des Cabidoules",
           9.7
          ],
          [
           "Offering a terrace and garden view, Maison au bord de mer is located in Saintes-Maries-de-la-Mer, 200 metres from Arenas Beach and 200 metres from Amphora Beach. ",
           "Maison au bord de mer",
           9.4
          ],
          [
           "Set in Saintes-Maries-de-la-Mer, Hôtel Casa Marina offers beachfront accommodation 90 metres from Amphora Beach and offers various facilities, such as a bar, a garden and a terrace. ",
           "Hôtel Casa Marina",
           8.9
          ],
          [
           "Managed by a private host",
           "Les Saintes au bord de mer",
           8.8
          ],
          [
           "Located just 400 metres from the sandy beach in Saintes-Maries-de-La-Mer, Le Maset is an air-conditioned hotel offering a swimming pool surrounded by sun loungers. ",
           "Le Maset",
           8.8
          ],
          [
           "Set in Saintes-Maries-de-la-Mer, 1.4 km from Amphora Beach, Mas des Rièges & Spa offers accommodation with an outdoor swimming pool, free private parking, a garden and a terrace. ",
           "Mas des Rièges & Spa",
           8.8
          ],
          [
           "Located in Saintes-Maries-de-la-Mer, 600 metres from Arenas Beach and 600 metres from Amphora Beach, Le Tau provides accommodation with amenities such as free WiFi and a TV. ",
           "Le Tau",
           8.7
          ],
          [
           "Mangio Fango Hotel et Spa in Saintes-Maries-de-la-Mer has 4-star accommodation with a garden, a terrace and a bar. ",
           "Mangio Fango Hotel et Spa",
           8.6
          ],
          [
           "Le Mas de Cocagne features a seasonal heated outdoor swimming pool and a garden. It is located at the entrance of Saintes-Maries-de-la-Mer, just 800 metres from the sandy beaches and the town centre. ",
           "Le Mas de Cocagne",
           8.6
          ],
          [
           "Set in the Camargue Regional Park, Abrivado is an air-conditioned hotel located beside the harbour in the town of Saintes-Maries-de-la-Mer. It is 50 metres from the beach and the surrounding shops. ",
           "Abrivado",
           8.5
          ],
          [
           "Just 100 metres from the nearest beach and 400 metres from the church in Saintes-Maries-de-la-Mer, this 2-star hotel offers free WiFi access throughout the property. ",
           "Hôtel Les Arcades",
           8.5
          ],
          [
           "Lou Marquès is located in Les Saintes Maries De La Mer, in Camargue Regional Nature Park.  It offers free WiFi and a sunny terrace and it is just 400 metres from the beaches. ",
           "Hotel Lou Marquès",
           8.4
          ],
          [
           "Located 50 metres from the beach, Le Dauphin Bleu faces the Mediterranean Sea and is 400 metres from the centre of Saintes-Maries-de-la-Mer's historic old town. ",
           "Le Dauphin Bleu",
           8.4
          ],
          [
           "Featuring an outdoor pool, boules pitch and table tennis table, Mas de Calabrun is a hotel located on a private estate in Saintes-Maries-de-la-Mer in the Camargue Regional Park. ",
           "Mas De Calabrun",
           8.4
          ],
          [
           "Résidence La Palma is located in Saintes-Maries-de-la-Mer just 100 metres from the beach and village centre. ",
           "Résidence La Palma",
           8.1
          ],
          [
           "Set by a pond, Les Rizières is a hotel situated 2.8 km from Saintes-Maries-de-la-Mer and 2.4 km from Pont De Gau Ornithological Park with its pink flamingos. ",
           "Les Rizières",
           8.1
          ],
          [
           "Vila De La Mar & Spa is a small hotel featuring modern design located in the centre of Saintes-Maries-de-la-Mer, 100 metres from the beach. ",
           "Vila De La Mar & Spa",
           8
          ],
          [
           "This air-conditioned hotel featuring a terrace is located on the beachfront in Saintes-Maries-de-la-Mer, 35 km from Arles. Free Wi-Fi access and an LCD TV are offered in the modern rooms. ",
           "Hotel Camille",
           7.9
          ],
          [
           "Situated 100 metres from sandy beaches and 200 metres from Eglise des Stes Maries in Saintes-Maries-de-la-Mer, Hotel Les Palmiers En Camargue features free WiFi access. ",
           "Hotel Les Palmiers En Camargue",
           7.9
          ],
          [
           "Featuring a terrace, Hôtel Le Neptune en Camargue is located in Saintes-Maries-de-la-Mer in the Provence-Alpes-Côte d'Azur region, 400 metres from Arenas Beach and 500 metres from Amphora Beach. ",
           "Hôtel Le Neptune en Camargue",
           7.8
          ],
          [
           "Managed by a private host",
           "Studio Couleur Camargue Intra-Muros Free parking",
           10
          ],
          [
           "Managed by a private host",
           "Chambre à 500 m des remparts",
           9.7
          ],
          [
           "Managed by a private host",
           "Séjour atypique et insolite sur notre péniche La Coradine avec jacuzzi",
           9.6
          ],
          [
           "Managed by a private host",
           "la cabane du saunier Stella - Etang du Roy",
           9.5
          ],
          [
           "Managed by a private host",
           "Superbe appartement de caractère au calme",
           9.5
          ],
          [
           "Located in a former military station dating from the 18th-century, inside the medieval ramparts of Aigues-Mortes, this refined hotel offers a bar and a terrace with sun loungers. ",
           "Boutique Hôtel des Remparts & Spa",
           9.5
          ],
          [
           "Managed by a private host",
           "CABANE DU SAUNIER MAIA ETANG DU ROY",
           9.2
          ],
          [
           "Set in a building dating from the 15th century, La Villa Mazarin is located in the fortified city of Aigues-Mortes. It offers a terrace and guests can enjoy a drink at the bar. ",
           "La Villa Mazarin",
           9.1
          ],
          [
           "Managed by a private host",
           "Maison Aigues-Mortes 8 couchages",
           9
          ],
          [
           "Set in Aigues-Mortes, 24 km from Montpellier Arena, Les suites du 17 offers air-conditioned rooms and a garden. ",
           "Les suites du 17",
           9
          ],
          [
           "Amazing home in Aigues-Mortes with 4 Bedrooms, WiFi and Outdoor swimming pool is located in Aigues-Mortes, 24 km from Montpellier Arena, 24 km from Parc des Expositions de Montpellier, and 28 km from...",
           "Amazing home in Aigues-Mortes with 4 Bedrooms, WiFi and Outdoor swimming pool",
           9
          ],
          [
           "Situated 24 km from Montpellier Arena in Aigues-Mortes, La Maison de Lyna features accommodation with air conditioning and free WiFi. ",
           "La Maison de Lyna",
           9
          ],
          [
           "Managed by a private host",
           "La Paloma",
           8.9
          ],
          [
           "Maison des Croisades in Aigues-Mortes offers bike rental and a garden. The hotel features free WiFi and a terrace. Guests can enjoy Canal & Garden Views. Le Grau-du-Roi beach is a 10-minute drive...",
           "Maison des Croisades",
           8.8
          ],
          [
           "Managed by a private host",
           "Nid douillet t3 au coeur des remparts",
           8.6
          ],
          [
           "Hotel Canal Aigues Mortes is a 5-minute walk to the fortified city, on the banks of the canal, visible from its panoramic terrace and swimming pool. It offers air-conditioned rooms with free WiFi. ",
           "Hotel Canal Aigues Mortes",
           8.5
          ],
          [
           "Set in the historical heart of Aigues-Mortes, 200 yards from the Tour de Constance, Hôtel Saint Louis is an air-conditioned hotel with a wellness center and restaurant. ",
           "Hôtel Saint Louis",
           8.4
          ],
          [
           "Set in Aigues-Mortes, within 23 km of Montpellier Arena and 23 km of Parc des Expositions de Montpellier, Hotel L'Escale offers accommodation with a restaurant and a bar, and free WiFi throughout the...",
           "Hotel L'Escale",
           8.1
          ],
          [
           "Maison T4 -Jardin+ Parking+ Clim -Proche Remparts, a property with a terrace, is located in Aigues-Mortes, 25 km from Parc des Expositions de Montpellier, 29 km from Zenith Sud Montpellier, as well as...",
           "Maison T4 -Jardin+ Parking+ Clim -Proche Remparts",
           8.1
          ],
          [
           "Located outside Aigues-Mortes’ fortifications, Résidence Odalys Le Mas des Flamants is just next to the Vidourle River. ",
           "Résidence Odalys Le Mas des Flamants",
           8
          ]
         ],
         "hovertemplate": "<b>%{hovertext}</b><br><br>score=%{marker.color}<br>hotel_lat=%{lat}<br>hotel_lon=%{lon}<br>description=%{customdata[0]}<br>name=%{customdata[1]}<extra></extra>",
         "hovertext": [
          "Sublime appart Bd Bompard cosy, vue mer, 2ch",
          "SUD PASSION - Sakakini - calme - 3 chambres - lumineux - fibre",
          "Les Appartements du Vieux Port",
          "Le Plaisir 1827",
          "Maison Juste",
          "Superbe appart 3 p, 10 mn de la plage avec piscine et parking",
          "Cocon au Soleil 1827",
          "La Residence Du Vieux Port",
          "Maisons du Monde Hôtel & Suites - Marseille Vieux Port",
          "Appartement climatisé hyper centre de Marseille",
          "InterContinental Marseille - Hotel Dieu, an IHG Hotel",
          "Hôtel Life Marseille VP - Vieux Port",
          "Sofitel Marseille Vieux-Port",
          "New Hotel Le Quai - Vieux Port",
          "Mercure Marseille Canebière Vieux-Port",
          "Magnifique T5 (12pers) 129m²-Climatisé-Vieux-Port",
          "Hôtel Maison Montgrand - Vieux Port",
          "LE PANIER ENCHANTÉ - Suites & Loft - Terrasse et patio au dessus du Vieux Port",
          "ibis Styles Marseille Gare Saint-Charles",
          "Toyoko INN Marseille Saint Charles",
          "Le Corton - 45m2 - Parking - Jardin - Wifi",
          "LE SEPT charmant studio aux portes des calanques",
          "Plage & Calanques Cassis",
          "Chambre d'hôtes Clos du Petit Jésus",
          "SunSet Cassis",
          "La douceur de Cassis",
          "HPC Suites",
          "Cassis Ma Vie Là",
          "L'Oustau par Dodo à Cassis",
          "CALANQUE DE PORT MIOU",
          "CALANQUE D'EN VAU",
          "Appartement Cassis vue mer d'exception",
          "appartement du pêcheur à Cassis à 10 mètres du port",
          "LE REVE BLEU",
          "Sweet SEA HOME vue mer",
          "UNE TERRASSE SUR LA MER 3 pers 2 chambres VUE MER",
          "HORIZON BLEU Vue Mer",
          "appartement cosy à 10 mètres du port de Cassis",
          "Le Duplex",
          "CALYPSO",
          "La Casa Machado 2",
          "Le Mouret",
          "Les mimosas",
          "Les Suites de Collioure",
          "Le 15-Appartments Collioure",
          "Au coeur de Collioure",
          "Les hauteurs de Collioure",
          "SAPHIR - Superbe T2 Vue Mer et Montagne avec PISCINE et GARAGE PRIVE",
          "location Coma Chéric",
          "Les Roches Brunes",
          "Appartement Les Roches Bleues - 5RB14",
          "Le Madeloc Hôtel & Spa",
          "Hôtel La Casa Pairal",
          "Villa 6 personnes dans résidence 6CHK4",
          "Maison de vacances Faubourg - 6LAM16",
          "Appartement de charme à 50m de la plage de sable",
          "La Frégate",
          "Résidence Saint Vincent",
          "Charmant T2 rénové, parking, piscine, plage à 150m",
          "Le Mas des Citronniers",
          "Mas des Cabidoules",
          "Maison au bord de mer",
          "Hôtel Casa Marina",
          "Les Saintes au bord de mer",
          "Le Maset",
          "Mas des Rièges & Spa",
          "Le Tau",
          "Mangio Fango Hotel et Spa",
          "Le Mas de Cocagne",
          "Abrivado",
          "Hôtel Les Arcades",
          "Hotel Lou Marquès",
          "Le Dauphin Bleu",
          "Mas De Calabrun",
          "Résidence La Palma",
          "Les Rizières",
          "Vila De La Mar & Spa",
          "Hotel Camille",
          "Hotel Les Palmiers En Camargue",
          "Hôtel Le Neptune en Camargue",
          "Studio Couleur Camargue Intra-Muros Free parking",
          "Chambre à 500 m des remparts",
          "Séjour atypique et insolite sur notre péniche La Coradine avec jacuzzi",
          "la cabane du saunier Stella - Etang du Roy",
          "Superbe appartement de caractère au calme",
          "Boutique Hôtel des Remparts & Spa",
          "CABANE DU SAUNIER MAIA ETANG DU ROY",
          "La Villa Mazarin",
          "Maison Aigues-Mortes 8 couchages",
          "Les suites du 17",
          "Amazing home in Aigues-Mortes with 4 Bedrooms, WiFi and Outdoor swimming pool",
          "La Maison de Lyna",
          "La Paloma",
          "Maison des Croisades",
          "Nid douillet t3 au coeur des remparts",
          "Hotel Canal Aigues Mortes",
          "Hôtel Saint Louis",
          "Hotel L'Escale",
          "Maison T4 -Jardin+ Parking+ Clim -Proche Remparts",
          "Résidence Odalys Le Mas des Flamants"
         ],
         "lat": [
          43.280963,
          43.299162,
          43.295117,
          43.296539,
          43.292332,
          43.25053,
          43.29655,
          43.296539,
          43.294124,
          43.29673,
          43.298582,
          43.294436,
          43.292427,
          43.296031,
          43.296986,
          43.299271,
          43.290963,
          43.300097,
          43.301022,
          43.304229,
          43.211712,
          43.2176,
          43.212002,
          43.215246,
          43.215456,
          43.215009,
          43.21644,
          43.216905,
          43.213516,
          43.214597,
          43.214599,
          43.21876,
          43.21534,
          43.220624,
          43.217292,
          43.214072,
          43.214993,
          43.215335,
          43.215055,
          43.217031,
          42.526156,
          42.528223,
          42.524325,
          42.52439,
          42.528518,
          42.527394,
          42.524571,
          42.526853,
          42.523072,
          42.525348,
          42.523431,
          42.528765,
          42.526167,
          42.526207,
          42.523699,
          42.523882,
          42.526386,
          42.527301,
          42.522506,
          42.525382,
          43.466109,
          43.450156,
          43.451133,
          43.451196,
          43.456561,
          43.461503,
          43.453726,
          43.459788,
          43.458316,
          43.450337,
          43.452628,
          43.455125,
          43.452331,
          43.502258,
          43.451056,
          43.47104,
          43.453345,
          43.450391,
          43.451066,
          43.452127,
          43.564511,
          43.565819,
          43.581709,
          43.579302,
          43.566959,
          43.568036,
          43.557539,
          43.564987,
          43.572071,
          43.566227,
          43.5737,
          43.566018,
          43.57006,
          43.568997,
          43.565542,
          43.572988,
          43.56722,
          43.568796,
          43.565819,
          43.573794
         ],
         "legendgroup": "",
         "lon": [
          5.36063,
          5.401543,
          5.376166,
          5.391374,
          5.382003,
          5.381482,
          5.391453,
          5.372706,
          5.37464,
          5.375929,
          5.369746,
          5.374782,
          5.360845,
          5.374891,
          5.379321,
          5.378047,
          5.376429,
          5.367585,
          5.380608,
          5.376624,
          5.541674,
          5.53235,
          5.52763,
          5.544668,
          5.535734,
          5.530956,
          5.541746,
          5.541446,
          5.543261,
          5.537844,
          5.537844,
          5.543799,
          5.536858,
          5.540767,
          5.535771,
          5.530622,
          5.535849,
          5.536861,
          5.540573,
          5.53575,
          3.082233,
          3.084889,
          3.077175,
          3.082726,
          3.078625,
          3.084758,
          3.068683,
          3.074799,
          3.08747,
          3.090324,
          3.097688,
          3.078654,
          3.082356,
          3.075367,
          3.082707,
          3.084402,
          3.083257,
          3.084233,
          3.088099,
          3.082564,
          4.414093,
          4.427183,
          4.430953,
          4.430507,
          4.426703,
          4.429328,
          4.429465,
          4.423285,
          4.425232,
          4.426224,
          4.430767,
          4.42874,
          4.43365,
          4.425758,
          4.425157,
          4.410587,
          4.430666,
          4.429912,
          4.425094,
          4.425347,
          4.192537,
          4.205353,
          4.208536,
          4.212834,
          4.190948,
          4.190344,
          4.182397,
          4.191752,
          4.193549,
          4.191121,
          4.189477,
          4.192353,
          4.187178,
          4.188298,
          4.18961,
          4.194825,
          4.189344,
          4.188087,
          4.205353,
          4.180622
         ],
         "marker": {
          "color": [
           10,
           10,
           9.5,
           9.1,
           9,
           9,
           8.7,
           8.6,
           8.4,
           8.3,
           8.3,
           8.3,
           8.3,
           8.3,
           8.2,
           8,
           8,
           7.9,
           7.8,
           7.8,
           10,
           9.7,
           9.7,
           9.5,
           9.4,
           9.3,
           9.2,
           9.1,
           9,
           8.7,
           8.7,
           8.6,
           8.6,
           8.6,
           8.5,
           8.5,
           8.4,
           8.3,
           8.2,
           8.2,
           10,
           9.7,
           9.5,
           9.4,
           9.3,
           9.3,
           9.3,
           9.1,
           9.1,
           9.1,
           9,
           8.8,
           8.8,
           8.7,
           8.5,
           8.5,
           8.2,
           8,
           8,
           8,
           9.7,
           9.4,
           8.9,
           8.8,
           8.8,
           8.8,
           8.7,
           8.6,
           8.6,
           8.5,
           8.5,
           8.4,
           8.4,
           8.4,
           8.1,
           8.1,
           8,
           7.9,
           7.9,
           7.8,
           10,
           9.7,
           9.6,
           9.5,
           9.5,
           9.5,
           9.2,
           9.1,
           9,
           9,
           9,
           9,
           8.9,
           8.8,
           8.6,
           8.5,
           8.4,
           8.1,
           8.1,
           8
          ],
          "coloraxis": "coloraxis",
          "size": [
           10,
           10,
           9.5,
           9.1,
           9,
           9,
           8.7,
           8.6,
           8.4,
           8.3,
           8.3,
           8.3,
           8.3,
           8.3,
           8.2,
           8,
           8,
           7.9,
           7.8,
           7.8,
           10,
           9.7,
           9.7,
           9.5,
           9.4,
           9.3,
           9.2,
           9.1,
           9,
           8.7,
           8.7,
           8.6,
           8.6,
           8.6,
           8.5,
           8.5,
           8.4,
           8.3,
           8.2,
           8.2,
           10,
           9.7,
           9.5,
           9.4,
           9.3,
           9.3,
           9.3,
           9.1,
           9.1,
           9.1,
           9,
           8.8,
           8.8,
           8.7,
           8.5,
           8.5,
           8.2,
           8,
           8,
           8,
           9.7,
           9.4,
           8.9,
           8.8,
           8.8,
           8.8,
           8.7,
           8.6,
           8.6,
           8.5,
           8.5,
           8.4,
           8.4,
           8.4,
           8.1,
           8.1,
           8,
           7.9,
           7.9,
           7.8,
           10,
           9.7,
           9.6,
           9.5,
           9.5,
           9.5,
           9.2,
           9.1,
           9,
           9,
           9,
           9,
           8.9,
           8.8,
           8.6,
           8.5,
           8.4,
           8.1,
           8.1,
           8
          ],
          "sizemode": "area",
          "sizeref": 0.1
         },
         "mode": "markers",
         "name": "",
         "showlegend": false,
         "subplot": "mapbox",
         "type": "scattermapbox"
        }
       ],
       "layout": {
        "coloraxis": {
         "colorbar": {
          "title": {
           "text": "score"
          }
         },
         "colorscale": [
          [
           0,
           "#000004"
          ],
          [
           0.1111111111111111,
           "#1b0c41"
          ],
          [
           0.2222222222222222,
           "#4a0c6b"
          ],
          [
           0.3333333333333333,
           "#781c6d"
          ],
          [
           0.4444444444444444,
           "#a52c60"
          ],
          [
           0.5555555555555556,
           "#cf4446"
          ],
          [
           0.6666666666666666,
           "#ed6925"
          ],
          [
           0.7777777777777778,
           "#fb9b06"
          ],
          [
           0.8888888888888888,
           "#f7d13d"
          ],
          [
           1,
           "#fcffa4"
          ]
         ]
        },
        "height": 600,
        "legend": {
         "itemsizing": "constant",
         "tracegroupgap": 0
        },
        "mapbox": {
         "center": {
          "lat": 43.21227075999998,
          "lon": 4.52342985
         },
         "domain": {
          "x": [
           0,
           1
          ],
          "y": [
           0,
           1
          ]
         },
         "style": "carto-darkmatter",
         "zoom": 6
        },
        "template": {
         "data": {
          "bar": [
           {
            "error_x": {
             "color": "#f2f5fa"
            },
            "error_y": {
             "color": "#f2f5fa"
            },
            "marker": {
             "line": {
              "color": "rgb(17,17,17)",
              "width": 0.5
             },
             "pattern": {
              "fillmode": "overlay",
              "size": 10,
              "solidity": 0.2
             }
            },
            "type": "bar"
           }
          ],
          "barpolar": [
           {
            "marker": {
             "line": {
              "color": "rgb(17,17,17)",
              "width": 0.5
             },
             "pattern": {
              "fillmode": "overlay",
              "size": 10,
              "solidity": 0.2
             }
            },
            "type": "barpolar"
           }
          ],
          "carpet": [
           {
            "aaxis": {
             "endlinecolor": "#A2B1C6",
             "gridcolor": "#506784",
             "linecolor": "#506784",
             "minorgridcolor": "#506784",
             "startlinecolor": "#A2B1C6"
            },
            "baxis": {
             "endlinecolor": "#A2B1C6",
             "gridcolor": "#506784",
             "linecolor": "#506784",
             "minorgridcolor": "#506784",
             "startlinecolor": "#A2B1C6"
            },
            "type": "carpet"
           }
          ],
          "choropleth": [
           {
            "colorbar": {
             "outlinewidth": 0,
             "ticks": ""
            },
            "type": "choropleth"
           }
          ],
          "contour": [
           {
            "colorbar": {
             "outlinewidth": 0,
             "ticks": ""
            },
            "colorscale": [
             [
              0,
              "#0d0887"
             ],
             [
              0.1111111111111111,
              "#46039f"
             ],
             [
              0.2222222222222222,
              "#7201a8"
             ],
             [
              0.3333333333333333,
              "#9c179e"
             ],
             [
              0.4444444444444444,
              "#bd3786"
             ],
             [
              0.5555555555555556,
              "#d8576b"
             ],
             [
              0.6666666666666666,
              "#ed7953"
             ],
             [
              0.7777777777777778,
              "#fb9f3a"
             ],
             [
              0.8888888888888888,
              "#fdca26"
             ],
             [
              1,
              "#f0f921"
             ]
            ],
            "type": "contour"
           }
          ],
          "contourcarpet": [
           {
            "colorbar": {
             "outlinewidth": 0,
             "ticks": ""
            },
            "type": "contourcarpet"
           }
          ],
          "heatmap": [
           {
            "colorbar": {
             "outlinewidth": 0,
             "ticks": ""
            },
            "colorscale": [
             [
              0,
              "#0d0887"
             ],
             [
              0.1111111111111111,
              "#46039f"
             ],
             [
              0.2222222222222222,
              "#7201a8"
             ],
             [
              0.3333333333333333,
              "#9c179e"
             ],
             [
              0.4444444444444444,
              "#bd3786"
             ],
             [
              0.5555555555555556,
              "#d8576b"
             ],
             [
              0.6666666666666666,
              "#ed7953"
             ],
             [
              0.7777777777777778,
              "#fb9f3a"
             ],
             [
              0.8888888888888888,
              "#fdca26"
             ],
             [
              1,
              "#f0f921"
             ]
            ],
            "type": "heatmap"
           }
          ],
          "heatmapgl": [
           {
            "colorbar": {
             "outlinewidth": 0,
             "ticks": ""
            },
            "colorscale": [
             [
              0,
              "#0d0887"
             ],
             [
              0.1111111111111111,
              "#46039f"
             ],
             [
              0.2222222222222222,
              "#7201a8"
             ],
             [
              0.3333333333333333,
              "#9c179e"
             ],
             [
              0.4444444444444444,
              "#bd3786"
             ],
             [
              0.5555555555555556,
              "#d8576b"
             ],
             [
              0.6666666666666666,
              "#ed7953"
             ],
             [
              0.7777777777777778,
              "#fb9f3a"
             ],
             [
              0.8888888888888888,
              "#fdca26"
             ],
             [
              1,
              "#f0f921"
             ]
            ],
            "type": "heatmapgl"
           }
          ],
          "histogram": [
           {
            "marker": {
             "pattern": {
              "fillmode": "overlay",
              "size": 10,
              "solidity": 0.2
             }
            },
            "type": "histogram"
           }
          ],
          "histogram2d": [
           {
            "colorbar": {
             "outlinewidth": 0,
             "ticks": ""
            },
            "colorscale": [
             [
              0,
              "#0d0887"
             ],
             [
              0.1111111111111111,
              "#46039f"
             ],
             [
              0.2222222222222222,
              "#7201a8"
             ],
             [
              0.3333333333333333,
              "#9c179e"
             ],
             [
              0.4444444444444444,
              "#bd3786"
             ],
             [
              0.5555555555555556,
              "#d8576b"
             ],
             [
              0.6666666666666666,
              "#ed7953"
             ],
             [
              0.7777777777777778,
              "#fb9f3a"
             ],
             [
              0.8888888888888888,
              "#fdca26"
             ],
             [
              1,
              "#f0f921"
             ]
            ],
            "type": "histogram2d"
           }
          ],
          "histogram2dcontour": [
           {
            "colorbar": {
             "outlinewidth": 0,
             "ticks": ""
            },
            "colorscale": [
             [
              0,
              "#0d0887"
             ],
             [
              0.1111111111111111,
              "#46039f"
             ],
             [
              0.2222222222222222,
              "#7201a8"
             ],
             [
              0.3333333333333333,
              "#9c179e"
             ],
             [
              0.4444444444444444,
              "#bd3786"
             ],
             [
              0.5555555555555556,
              "#d8576b"
             ],
             [
              0.6666666666666666,
              "#ed7953"
             ],
             [
              0.7777777777777778,
              "#fb9f3a"
             ],
             [
              0.8888888888888888,
              "#fdca26"
             ],
             [
              1,
              "#f0f921"
             ]
            ],
            "type": "histogram2dcontour"
           }
          ],
          "mesh3d": [
           {
            "colorbar": {
             "outlinewidth": 0,
             "ticks": ""
            },
            "type": "mesh3d"
           }
          ],
          "parcoords": [
           {
            "line": {
             "colorbar": {
              "outlinewidth": 0,
              "ticks": ""
             }
            },
            "type": "parcoords"
           }
          ],
          "pie": [
           {
            "automargin": true,
            "type": "pie"
           }
          ],
          "scatter": [
           {
            "marker": {
             "line": {
              "color": "#283442"
             }
            },
            "type": "scatter"
           }
          ],
          "scatter3d": [
           {
            "line": {
             "colorbar": {
              "outlinewidth": 0,
              "ticks": ""
             }
            },
            "marker": {
             "colorbar": {
              "outlinewidth": 0,
              "ticks": ""
             }
            },
            "type": "scatter3d"
           }
          ],
          "scattercarpet": [
           {
            "marker": {
             "colorbar": {
              "outlinewidth": 0,
              "ticks": ""
             }
            },
            "type": "scattercarpet"
           }
          ],
          "scattergeo": [
           {
            "marker": {
             "colorbar": {
              "outlinewidth": 0,
              "ticks": ""
             }
            },
            "type": "scattergeo"
           }
          ],
          "scattergl": [
           {
            "marker": {
             "line": {
              "color": "#283442"
             }
            },
            "type": "scattergl"
           }
          ],
          "scattermapbox": [
           {
            "marker": {
             "colorbar": {
              "outlinewidth": 0,
              "ticks": ""
             }
            },
            "type": "scattermapbox"
           }
          ],
          "scatterpolar": [
           {
            "marker": {
             "colorbar": {
              "outlinewidth": 0,
              "ticks": ""
             }
            },
            "type": "scatterpolar"
           }
          ],
          "scatterpolargl": [
           {
            "marker": {
             "colorbar": {
              "outlinewidth": 0,
              "ticks": ""
             }
            },
            "type": "scatterpolargl"
           }
          ],
          "scatterternary": [
           {
            "marker": {
             "colorbar": {
              "outlinewidth": 0,
              "ticks": ""
             }
            },
            "type": "scatterternary"
           }
          ],
          "surface": [
           {
            "colorbar": {
             "outlinewidth": 0,
             "ticks": ""
            },
            "colorscale": [
             [
              0,
              "#0d0887"
             ],
             [
              0.1111111111111111,
              "#46039f"
             ],
             [
              0.2222222222222222,
              "#7201a8"
             ],
             [
              0.3333333333333333,
              "#9c179e"
             ],
             [
              0.4444444444444444,
              "#bd3786"
             ],
             [
              0.5555555555555556,
              "#d8576b"
             ],
             [
              0.6666666666666666,
              "#ed7953"
             ],
             [
              0.7777777777777778,
              "#fb9f3a"
             ],
             [
              0.8888888888888888,
              "#fdca26"
             ],
             [
              1,
              "#f0f921"
             ]
            ],
            "type": "surface"
           }
          ],
          "table": [
           {
            "cells": {
             "fill": {
              "color": "#506784"
             },
             "line": {
              "color": "rgb(17,17,17)"
             }
            },
            "header": {
             "fill": {
              "color": "#2a3f5f"
             },
             "line": {
              "color": "rgb(17,17,17)"
             }
            },
            "type": "table"
           }
          ]
         },
         "layout": {
          "annotationdefaults": {
           "arrowcolor": "#f2f5fa",
           "arrowhead": 0,
           "arrowwidth": 1
          },
          "autotypenumbers": "strict",
          "coloraxis": {
           "colorbar": {
            "outlinewidth": 0,
            "ticks": ""
           }
          },
          "colorscale": {
           "diverging": [
            [
             0,
             "#8e0152"
            ],
            [
             0.1,
             "#c51b7d"
            ],
            [
             0.2,
             "#de77ae"
            ],
            [
             0.3,
             "#f1b6da"
            ],
            [
             0.4,
             "#fde0ef"
            ],
            [
             0.5,
             "#f7f7f7"
            ],
            [
             0.6,
             "#e6f5d0"
            ],
            [
             0.7,
             "#b8e186"
            ],
            [
             0.8,
             "#7fbc41"
            ],
            [
             0.9,
             "#4d9221"
            ],
            [
             1,
             "#276419"
            ]
           ],
           "sequential": [
            [
             0,
             "#0d0887"
            ],
            [
             0.1111111111111111,
             "#46039f"
            ],
            [
             0.2222222222222222,
             "#7201a8"
            ],
            [
             0.3333333333333333,
             "#9c179e"
            ],
            [
             0.4444444444444444,
             "#bd3786"
            ],
            [
             0.5555555555555556,
             "#d8576b"
            ],
            [
             0.6666666666666666,
             "#ed7953"
            ],
            [
             0.7777777777777778,
             "#fb9f3a"
            ],
            [
             0.8888888888888888,
             "#fdca26"
            ],
            [
             1,
             "#f0f921"
            ]
           ],
           "sequentialminus": [
            [
             0,
             "#0d0887"
            ],
            [
             0.1111111111111111,
             "#46039f"
            ],
            [
             0.2222222222222222,
             "#7201a8"
            ],
            [
             0.3333333333333333,
             "#9c179e"
            ],
            [
             0.4444444444444444,
             "#bd3786"
            ],
            [
             0.5555555555555556,
             "#d8576b"
            ],
            [
             0.6666666666666666,
             "#ed7953"
            ],
            [
             0.7777777777777778,
             "#fb9f3a"
            ],
            [
             0.8888888888888888,
             "#fdca26"
            ],
            [
             1,
             "#f0f921"
            ]
           ]
          },
          "colorway": [
           "#636efa",
           "#EF553B",
           "#00cc96",
           "#ab63fa",
           "#FFA15A",
           "#19d3f3",
           "#FF6692",
           "#B6E880",
           "#FF97FF",
           "#FECB52"
          ],
          "font": {
           "color": "#f2f5fa"
          },
          "geo": {
           "bgcolor": "rgb(17,17,17)",
           "lakecolor": "rgb(17,17,17)",
           "landcolor": "rgb(17,17,17)",
           "showlakes": true,
           "showland": true,
           "subunitcolor": "#506784"
          },
          "hoverlabel": {
           "align": "left"
          },
          "hovermode": "closest",
          "mapbox": {
           "style": "dark"
          },
          "paper_bgcolor": "rgb(17,17,17)",
          "plot_bgcolor": "rgb(17,17,17)",
          "polar": {
           "angularaxis": {
            "gridcolor": "#506784",
            "linecolor": "#506784",
            "ticks": ""
           },
           "bgcolor": "rgb(17,17,17)",
           "radialaxis": {
            "gridcolor": "#506784",
            "linecolor": "#506784",
            "ticks": ""
           }
          },
          "scene": {
           "xaxis": {
            "backgroundcolor": "rgb(17,17,17)",
            "gridcolor": "#506784",
            "gridwidth": 2,
            "linecolor": "#506784",
            "showbackground": true,
            "ticks": "",
            "zerolinecolor": "#C8D4E3"
           },
           "yaxis": {
            "backgroundcolor": "rgb(17,17,17)",
            "gridcolor": "#506784",
            "gridwidth": 2,
            "linecolor": "#506784",
            "showbackground": true,
            "ticks": "",
            "zerolinecolor": "#C8D4E3"
           },
           "zaxis": {
            "backgroundcolor": "rgb(17,17,17)",
            "gridcolor": "#506784",
            "gridwidth": 2,
            "linecolor": "#506784",
            "showbackground": true,
            "ticks": "",
            "zerolinecolor": "#C8D4E3"
           }
          },
          "shapedefaults": {
           "line": {
            "color": "#f2f5fa"
           }
          },
          "sliderdefaults": {
           "bgcolor": "#C8D4E3",
           "bordercolor": "rgb(17,17,17)",
           "borderwidth": 1,
           "tickwidth": 0
          },
          "ternary": {
           "aaxis": {
            "gridcolor": "#506784",
            "linecolor": "#506784",
            "ticks": ""
           },
           "baxis": {
            "gridcolor": "#506784",
            "linecolor": "#506784",
            "ticks": ""
           },
           "bgcolor": "rgb(17,17,17)",
           "caxis": {
            "gridcolor": "#506784",
            "linecolor": "#506784",
            "ticks": ""
           }
          },
          "title": {
           "x": 0.05
          },
          "updatemenudefaults": {
           "bgcolor": "#506784",
           "borderwidth": 0
          },
          "xaxis": {
           "automargin": true,
           "gridcolor": "#283442",
           "linecolor": "#506784",
           "ticks": "",
           "title": {
            "standoff": 15
           },
           "zerolinecolor": "#283442",
           "zerolinewidth": 2
          },
          "yaxis": {
           "automargin": true,
           "gridcolor": "#283442",
           "linecolor": "#506784",
           "ticks": "",
           "title": {
            "standoff": 15
           },
           "zerolinecolor": "#283442",
           "zerolinewidth": 2
          }
         }
        },
        "title": {
         "text": "TOP 20 hotels in Top 5 cities in France",
         "x": 0.5
        },
        "width": 800
       }
      }
     },
     "metadata": {},
     "output_type": "display_data"
    }
   ],
   "source": [
    "# Display Top 20 best hotels (based on their score) located in our TOP 5 cities\n",
    "fig = px.scatter_mapbox(all_hotels,\n",
    "                        title='TOP 20 hotels in Top 5 cities in France',\n",
    "                        lat = 'hotel_lat',\n",
    "                        lon = 'hotel_lon',\n",
    "                        color='score',\n",
    "                        size='score',\n",
    "                        color_continuous_scale=px.colors.sequential.Inferno,\n",
    "                        size_max=10,\n",
    "                        hover_name='name',\n",
    "                        hover_data={\n",
    "                            'description':True,\n",
    "                            'name': True,\n",
    "                            'score': True    \n",
    "                            }, \n",
    "                                            )\n",
    "fig.update_layout(width = 800,\n",
    "                  height = 600,\n",
    "                  title_x = 0.5, \n",
    "                  template = 'plotly_dark',\n",
    "                  mapbox = {\"style\": \"carto-darkmatter\", \"zoom\": 6},\n",
    "                  \n",
    "                  )\n",
    "\n",
    "fig.show()"
   ]
  },
  {
   "cell_type": "code",
   "execution_count": null,
   "metadata": {},
   "outputs": [],
   "source": []
  }
 ],
 "metadata": {
  "kernelspec": {
   "display_name": "Python 3.9.12 ('base')",
   "language": "python",
   "name": "python3"
  },
  "language_info": {
   "codemirror_mode": {
    "name": "ipython",
    "version": 3
   },
   "file_extension": ".py",
   "mimetype": "text/x-python",
   "name": "python",
   "nbconvert_exporter": "python",
   "pygments_lexer": "ipython3",
   "version": "3.9.12"
  },
  "orig_nbformat": 4,
  "vscode": {
   "interpreter": {
    "hash": "88de8a03d390c9821a705f8812eeaeda47efe29e530260f109fd5a47346b85c0"
   }
  }
 },
 "nbformat": 4,
 "nbformat_minor": 2
}
